{
  "cells": [
    {
      "cell_type": "code",
      "execution_count": null,
      "metadata": {
        "colab": {
          "base_uri": "https://localhost:8080/"
        },
        "id": "rVCp1lv7i1EM",
        "outputId": "9f66f7ab-8f6a-4b12-dbe6-45ccf160edb4"
      },
      "outputs": [
        {
          "output_type": "stream",
          "name": "stdout",
          "text": [
            "Mounted at /content/drive\n"
          ]
        }
      ],
      "source": [
        "from google.colab import drive\n",
        "drive.mount('/content/drive', force_remount=True)"
      ]
    },
    {
      "cell_type": "code",
      "execution_count": null,
      "metadata": {
        "id": "L1uyQi4WBuSq"
      },
      "outputs": [],
      "source": [
        "!unzip '/content/drive/MyDrive/CS613 Project/OASIS_alzheimer.zip' &> /dev/null"
      ]
    },
    {
      "cell_type": "code",
      "execution_count": null,
      "metadata": {
        "id": "-zjXS1IGjiwI"
      },
      "outputs": [],
      "source": [
        "from PIL import Image as I\n",
        "from PIL import ImageFilter\n",
        "import pandas as pd\n",
        "import numpy as np\n",
        "import os\n",
        "import cv2\n",
        "import shutil\n",
        "import random\n",
        "from distutils.file_util import copy_file\n",
        "from statistics import mode\n",
        "from sklearn.model_selection import train_test_split as split\n",
        "from sklearn.metrics import confusion_matrix as cm\n",
        "np.set_printoptions(suppress=True)"
      ]
    },
    {
      "cell_type": "code",
      "execution_count": null,
      "metadata": {
        "id": "jnwpICKsTLOp"
      },
      "outputs": [],
      "source": [
        "non = '/content/Data/Non Demented'\n",
        "vmild = '/content/Data/Very mild Dementia'\n",
        "mild = '/content/Data/Mild Dementia'\n",
        "mod = '/content/Data/Moderate Dementia'"
      ]
    },
    {
      "cell_type": "code",
      "execution_count": null,
      "metadata": {
        "id": "9FZfxtNZSczd"
      },
      "outputs": [],
      "source": [
        "listmod = []\n",
        "listnon = []\n",
        "listvmild = []\n",
        "listmild = []\n",
        "\n",
        "for root, directories, files in os.walk(mod):\n",
        "    for name in files:\n",
        "        listmod.append(os.path.join(root, name))\n",
        "for root, directories, files in os.walk(non):\n",
        "    for name in files:\n",
        "        listnon.append(os.path.join(root, name))\n",
        "for root, directories, files in os.walk(vmild):\n",
        "    for name in files:\n",
        "        listvmild.append(os.path.join(root, name))\n",
        "for root, directories, files in os.walk(mild):\n",
        "    for name in files:\n",
        "        listmild.append(os.path.join(root, name))\n",
        "\n",
        "# Shuffle lists for random train / test\n",
        "seed_value = 0\n",
        "random.seed(seed_value)\n",
        "random.shuffle(listmod)\n",
        "random.shuffle(listnon)\n",
        "random.shuffle(listvmild)\n",
        "random.shuffle(listmild)\n",
        "\n",
        "!mkdir ./Newdata\n",
        "!mkdir ./Newdata/mildtrain\n",
        "!mkdir ./Newdata/nontrain\n",
        "!mkdir ./Newdata/vmildtrain\n",
        "!mkdir ./Newdata/modtrain\n",
        "!mkdir ./Newdata/mildtest\n",
        "!mkdir ./Newdata/nontest\n",
        "!mkdir ./Newdata/vmildtest\n",
        "!mkdir ./Newdata/modtest"
      ]
    },
    {
      "cell_type": "code",
      "execution_count": null,
      "metadata": {
        "id": "s0u68oHhTdC-"
      },
      "outputs": [],
      "source": [
        "pvmild = '/content/Newdata/vmildtrain'\n",
        "pnon = '/content/Newdata/nontrain'\n",
        "pmild = '/content/Newdata/mildtrain'\n",
        "pmod = '/content/Newdata/modtrain'\n",
        "tvmild = '/content/Newdata/vmildtest'\n",
        "tnon = '/content/Newdata/nontest'\n",
        "tmild = '/content/Newdata/mildtest'\n",
        "tmod = '/content/Newdata/modtest'\n",
        "n=488\n",
        "for i in range(n):  #to get a balanced class prior, since lowest class count is 488\n",
        "  if i<=(n*(2/3)):\n",
        "      copy_file(listvmild[i], pvmild)\n",
        "      copy_file(listmild[i], pmild)\n",
        "      copy_file(listnon[i], pnon)\n",
        "      copy_file(listmod[i], pmod)\n",
        "  else:\n",
        "    copy_file(listvmild[i], tvmild)\n",
        "    copy_file(listmild[i], tmild)\n",
        "    copy_file(listnon[i], tnon)\n",
        "    copy_file(listmod[i], tmod)"
      ]
    },
    {
      "cell_type": "code",
      "execution_count": 7,
      "metadata": {
        "colab": {
          "base_uri": "https://localhost:8080/"
        },
        "id": "7lxnrMqAjjQJ",
        "outputId": "1511a845-94da-4299-91d9-b69c9ca07ff3"
      },
      "outputs": [
        {
          "output_type": "stream",
          "name": "stdout",
          "text": [
            "(326, 8192)\n",
            "(326, 8192)\n",
            "(326, 8192)\n",
            "(326, 8192)\n",
            "(326, 8192)\n",
            "(326, 8192)\n",
            "(326, 8192)\n",
            "(326, 8192)\n",
            "(326, 8192)\n",
            "(326, 8192)\n",
            "(326, 8192)\n",
            "(326, 8192)\n"
          ]
        }
      ],
      "source": [
        "dir =[ [pnon, pmild], [pnon, pvmild], [pnon, pmod], [pmild, pvmild], [pmild, pmod], [pvmild, pmod] ]\n",
        "\n",
        "weights = [] #to return weights for each system\n",
        "pcas = [] #to return eigenvector for dimension reduction\n",
        "means = [] #to return training data mean to zero-mean for each weight\n",
        "zero_means = [] #to return prediction mean of X_train_0 to compare in test for each weight\n",
        "one_means = [] #to return prediction mean of X_train_1 to compare in test for each weight\n",
        "\n",
        "for k in range(6):\n",
        "  main_image_list = []\n",
        "  labels = []\n",
        "  for i in range(2):\n",
        "      location = sorted( os.listdir( dir[k][i] ) )\n",
        "      image_list = []\n",
        "      label_list = []\n",
        "      for file_name in location:\n",
        "          file_path = os.path.join( dir[k][i] , file_name )\n",
        "          image = I.open(file_path)\n",
        "\n",
        "###########Blur\n",
        "          # image = image.filter(ImageFilter.GaussianBlur(radius=2))\n",
        "\n",
        "          new_image = image.convert('L').resize(( 128, 64)) #downsampling image for ease of computation\n",
        "          image2D = np.array(new_image) #reading 2D matrix\n",
        "\n",
        "###########Canny edge\n",
        "          # image2D = cv2.Canny(image2D, 50, 150)\n",
        "\n",
        "          image1D = image2D.flatten() #flattening to 1D matrix\n",
        "          image_list.append(image1D)\n",
        "          label_list.append(i)\n",
        "\n",
        "      concatenated_images = np.vstack(image_list) #concatinating list vertically to get 326xfeatures shape\n",
        "      concatenated_labels = np.vstack(label_list)\n",
        "      print(concatenated_images.shape)\n",
        "      main_image_list.append(concatenated_images)\n",
        "      labels.append(concatenated_labels)\n",
        "\n",
        "  main_image_list = np.vstack(main_image_list)\n",
        "  labels = np.vstack(labels)\n",
        "\n",
        "  data = np.concatenate((labels, main_image_list), axis=1)\n",
        "  df = pd.DataFrame(data)\n",
        "\n",
        "  random_seed = 0\n",
        "  train_df = df.sample(frac=1, random_state = random_seed)\n",
        "\n",
        "  X_train = train_df.iloc[:,1:].values\n",
        "#### ZERO-MEAN\n",
        "  mean = X_train.mean()\n",
        "  X_train = (X_train - mean)\n",
        "#### ZERO-MEAN\n",
        "###################### PCA\n",
        "  train_cov = np.cov(X_train, rowvar = False)\n",
        "  e1,vec = np.linalg.eig(train_cov)\n",
        "  vec = vec[:,np.argsort(e1)[::-1]]\n",
        "  e_proj = vec[:,:1500]\n",
        "  X_train = np.dot(X_train,e_proj)\n",
        "###################### PCA\n",
        "  Y_train = train_df.iloc[:,:1].values\n",
        "  Y_train = Y_train.flatten()\n",
        "\n",
        "  X_train_0 = X_train[Y_train == 0]\n",
        "  X_train_1 = X_train[Y_train == 1]\n",
        "  mean_0 = np.mean(X_train_0,axis=0)\n",
        "  mean_1 = np.mean(X_train_1,axis=0)\n",
        "  cov_0 = np.cov(X_train_0,rowvar=False)\n",
        "  cov_1 = np.cov(X_train_1,rowvar=False)\n",
        "  Sw = cov_0 + cov_1\n",
        "  Sb = np.outer((mean_0 - mean_1).T, (mean_0 - mean_1))\n",
        "\n",
        "  eigenvalues, eigenvectors = np.linalg.eig((np.linalg.pinv(Sw)) @ Sb)\n",
        "  nz_eig = np.argmax(eigenvalues)\n",
        "  w = eigenvectors[:, nz_eig]\n",
        "\n",
        "  M0 = np.mean(X_train_0 @ w)\n",
        "  M1 = np.mean(X_train_1 @ w)\n",
        "\n",
        "  weights.append(w) # storing weights\n",
        "  pcas.append(e_proj) # storing vector to pca X_test\n",
        "  means.append(mean) # storing mean to zero mean X_test\n",
        "  zero_means.append(M0) #storing mean of 0 to determine pred label\n",
        "  one_means.append(M1) #storing mean of 1 to determine pred label\n"
      ]
    },
    {
      "cell_type": "code",
      "execution_count": 8,
      "metadata": {
        "id": "Exuf9-Dgtdmz",
        "colab": {
          "base_uri": "https://localhost:8080/"
        },
        "outputId": "9b4620a1-2874-4b78-bda3-a515498de347"
      },
      "outputs": [
        {
          "output_type": "stream",
          "name": "stdout",
          "text": [
            "(162, 8192)\n",
            "(162, 8192)\n",
            "(162, 8192)\n",
            "(162, 8192)\n"
          ]
        }
      ],
      "source": [
        "new_dir = [ tnon, tmild, tvmild, tmod ]\n",
        "\n",
        "test_main_image_list = []\n",
        "test_labels = []\n",
        "\n",
        "for i in range(4):\n",
        "    location = sorted( os.listdir( new_dir[i] ) )\n",
        "    image_list = []\n",
        "    label_list = []\n",
        "    for file_name in location:\n",
        "        file_path = os.path.join( new_dir[i] , file_name )\n",
        "        image = I.open(file_path)\n",
        "\n",
        "#########Blur\n",
        "        # image = image.filter(ImageFilter.GaussianBlur(radius=2))\n",
        "\n",
        "        new_image = image.convert('L').resize((128, 64)) #downsampling image for ease of computation\n",
        "        image2D = np.array(new_image) #reading 2D matrix\n",
        "\n",
        "#########Canny edge\n",
        "        # image2D = cv2.Canny(image2D, 50, 150)\n",
        "\n",
        "        image1D = image2D.flatten() #flattening to 1D matrix\n",
        "        image_list.append(image1D)\n",
        "        label_list.append(i)\n",
        "\n",
        "    concatenated_images = np.vstack(image_list) #concatinating list vertically get 162xfeatures shape\n",
        "    concatenated_labels = np.vstack(label_list)\n",
        "    print(concatenated_images.shape)\n",
        "    test_main_image_list.append(concatenated_images)\n",
        "    test_labels.append(concatenated_labels)\n",
        "\n",
        "\n",
        "\n",
        "test_main_image_list = np.vstack(test_main_image_list)\n",
        "test_labels = np.vstack(test_labels)\n",
        "\n",
        "tdata = np.concatenate((test_labels, test_main_image_list), axis=1)\n",
        "test_df = pd.DataFrame(tdata)\n",
        "\n",
        "test_df = test_df.sample(frac=1, random_state = 3)\n",
        "\n",
        "X_test = test_df.iloc[:,1:].values\n",
        "Y_test = test_df.iloc[:,:1].values\n",
        "\n",
        "Y_test = Y_test.flatten()"
      ]
    },
    {
      "cell_type": "code",
      "execution_count": 9,
      "metadata": {
        "id": "XZAtjWPrxiXh",
        "colab": {
          "base_uri": "https://localhost:8080/"
        },
        "outputId": "00b76f0b-2ad3-463a-e8b5-8728e2e2f3ff"
      },
      "outputs": [
        {
          "output_type": "execute_result",
          "data": {
            "text/plain": [
              "0.7746913580246914"
            ]
          },
          "metadata": {},
          "execution_count": 9
        }
      ],
      "source": [
        "list_num = [ [0,1], [0,2], [0,3], [1,2], [1,3], [2,3] ]\n",
        "final_pred = []\n",
        "\n",
        "for k in range ( np.shape(X_test)[0] ):\n",
        "  result = []\n",
        "  for l in range ( np.shape(weights)[0] ):\n",
        "\n",
        "    X_test_k = (X_test[k] - means[l]) #ZERO-MEAN\n",
        "    X_test_k = np.dot(X_test_k, pcas[l]) #PCA\n",
        "\n",
        "    y_pred_val = np.dot(X_test_k, weights[l])\n",
        "\n",
        "    a = abs(y_pred_val - zero_means[l])\n",
        "    b = abs(y_pred_val - one_means[l])\n",
        "\n",
        "    if a < b:\n",
        "      final = list_num[l][0]\n",
        "    else:\n",
        "      final = list_num[l][1]\n",
        "\n",
        "    result.append(final)\n",
        "\n",
        "  final_pred.append(mode(result))\n",
        "\n",
        "#accuracy\n",
        "np.mean(Y_test == final_pred)"
      ]
    },
    {
      "cell_type": "code",
      "source": [
        "import matplotlib.pyplot as plt\n",
        "import seaborn as sns\n",
        "cm1 = cm(Y_test, final_pred)\n",
        "\n",
        "# Plotting the confusion matrix\n",
        "plt.figure(figsize=(5.4, 4))\n",
        "sns.heatmap(cm1, annot=True, fmt=\"d\", cmap=\"Blues\", xticklabels=[0,1,2,3], yticklabels=[0,1,2,3])\n",
        "plt.title('Confusion Matrix')\n",
        "plt.xlabel('Predicted Label')\n",
        "plt.ylabel('True Label')\n",
        "plt.show()"
      ],
      "metadata": {
        "id": "6LWk0ES2h6jc",
        "colab": {
          "base_uri": "https://localhost:8080/",
          "height": 410
        },
        "outputId": "8fce8850-db33-4f64-9730-dc56f9f24e67"
      },
      "execution_count": 10,
      "outputs": [
        {
          "output_type": "display_data",
          "data": {
            "text/plain": [
              "<Figure size 540x400 with 2 Axes>"
            ],
            "image/png": "[encoded data removed]"
          },
          "metadata": {}
        }
      ]
    },
    {
      "cell_type": "code",
      "execution_count": 13,
      "metadata": {
        "id": "kJi9GKXGIy0-",
        "colab": {
          "base_uri": "https://localhost:8080/",
          "height": 52
        },
        "outputId": "263f9ca0-7c3e-4553-a6fa-4a7b72faba3c"
      },
      "outputs": [
        {
          "output_type": "stream",
          "name": "stdout",
          "text": [
            "mkdir: cannot create directory ‘./128_LDA’: File exists\n"
          ]
        },
        {
          "output_type": "execute_result",
          "data": {
            "text/plain": [
              "'/content/128_LDA.zip'"
            ],
            "application/vnd.google.colaboratory.intrinsic+json": {
              "type": "string"
            }
          },
          "metadata": {},
          "execution_count": 13
        }
      ],
      "source": [
        "####Exporting weights\n",
        "\n",
        "!mkdir ./128_LDA\n",
        "np.save('/content/128_LDA/128_LDA_weights.npy', weights)\n",
        "np.save('/content/128_LDA/128_LDA_pcas.npy', pcas)\n",
        "np.save('/content/128_LDA/128_LDA_means.npy', means)\n",
        "np.save('/content/128_LDA/128_LDA_zero_means.npy', zero_means)\n",
        "np.save('/content/128_LDA/128_LDA_one_means.npy', one_means)\n",
        "\n",
        "New = '/content/128_LDA'\n",
        "zip_filename = '/content/128_LDA'\n",
        "shutil.make_archive(zip_filename, 'zip', New)\n",
        "\n",
        "# !mkdir ./64_LDA\n",
        "# np.save('/content/64_LDA/64_LDA_weights.npy', weights)\n",
        "# np.save('/content/64_LDA/64_LDA_pcas.npy', pcas)\n",
        "# np.save('/content/64_LDA/64_LDA_means.npy', means)\n",
        "# np.save('/content/64_LDA/64_LDA_zero_means.npy', zero_means)\n",
        "# np.save('/content/64_LDA/64_LDA_one_means.npy', one_means)\n",
        "\n",
        "# New = '/content/64_LDA'\n",
        "# zip_filename = '/content/64_LDA'\n",
        "# shutil.make_archive(zip_filename, 'zip', New)"
      ]
    },
    {
      "cell_type": "code",
      "execution_count": 14,
      "metadata": {
        "id": "uhygVRBOYqFr"
      },
      "outputs": [],
      "source": [
        "# !cp 128_LDA.zip '/content/drive/MyDrive/CS613 Project'\n",
        "# !cp 64_LDA.zip '/content/drive/MyDrive/CS613 Project'"
      ]
    }
  ],
  "metadata": {
    "colab": {
      "provenance": []
    },
    "kernelspec": {
      "display_name": "Python 3",
      "name": "python3"
    },
    "language_info": {
      "name": "python"
    }
  },
  "nbformat": 4,
  "nbformat_minor": 0
}