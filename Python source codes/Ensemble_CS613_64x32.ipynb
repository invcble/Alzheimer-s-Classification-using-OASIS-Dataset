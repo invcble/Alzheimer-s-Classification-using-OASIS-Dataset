{
  "nbformat": 4,
  "nbformat_minor": 0,
  "metadata": {
    "colab": {
      "provenance": []
    },
    "kernelspec": {
      "name": "python3",
      "display_name": "Python 3"
    },
    "language_info": {
      "name": "python"
    }
  },
  "cells": [
    {
      "cell_type": "code",
      "execution_count": null,
      "metadata": {
        "colab": {
          "base_uri": "https://localhost:8080/"
        },
        "id": "rVCp1lv7i1EM",
        "outputId": "618997c5-872a-4e9f-935e-37176740459c"
      },
      "outputs": [
        {
          "output_type": "stream",
          "name": "stdout",
          "text": [
            "Mounted at /content/drive\n"
          ]
        }
      ],
      "source": [
        "from google.colab import drive\n",
        "drive.mount('/content/drive', force_remount=True)"
      ]
    },
    {
      "cell_type": "code",
      "execution_count": null,
      "metadata": {
        "id": "L1uyQi4WBuSq"
      },
      "outputs": [],
      "source": [
        "!unzip '/content/drive/MyDrive/CS613 Project/OASIS_alzheimer.zip' &> /dev/null"
      ]
    },
    {
      "cell_type": "code",
      "source": [
        "!unzip '/content/drive/MyDrive/CS613 Project/64_LDA.zip' &> /dev/null\n",
        "# !unzip '/content/drive/MyDrive/CS613 Project/128_LDA.zip' &> /dev/null"
      ],
      "metadata": {
        "id": "L9UdK7MO5bBl"
      },
      "execution_count": null,
      "outputs": []
    },
    {
      "cell_type": "code",
      "source": [
        "!unzip '/content/drive/MyDrive/CS613 Project/64_Log.zip' &> /dev/null\n",
        "# !unzip '/content/drive/MyDrive/CS613 Project/128_Log.zip' &> /dev/null"
      ],
      "metadata": {
        "id": "lkfViFqo_em8"
      },
      "execution_count": null,
      "outputs": []
    },
    {
      "cell_type": "code",
      "execution_count": null,
      "metadata": {
        "id": "-zjXS1IGjiwI"
      },
      "outputs": [],
      "source": [
        "from PIL import Image as I\n",
        "from PIL import ImageFilter\n",
        "import pandas as pd\n",
        "import numpy as np\n",
        "import os\n",
        "import cv2\n",
        "import shutil\n",
        "import random\n",
        "from distutils.file_util import copy_file\n",
        "from statistics import mode\n",
        "from sklearn.model_selection import train_test_split as split\n",
        "from sklearn.metrics import confusion_matrix as cm\n",
        "np.set_printoptions(suppress=True)"
      ]
    },
    {
      "cell_type": "code",
      "execution_count": null,
      "metadata": {
        "id": "jnwpICKsTLOp"
      },
      "outputs": [],
      "source": [
        "non = '/content/Data/Non Demented'\n",
        "vmild = '/content/Data/Very mild Dementia'\n",
        "mild = '/content/Data/Mild Dementia'\n",
        "mod = '/content/Data/Moderate Dementia'"
      ]
    },
    {
      "cell_type": "code",
      "execution_count": null,
      "metadata": {
        "id": "9FZfxtNZSczd"
      },
      "outputs": [],
      "source": [
        "listmod = []\n",
        "listnon = []\n",
        "listvmild = []\n",
        "listmild = []\n",
        "\n",
        "for root, directories, files in os.walk(mod):\n",
        "    for name in files:\n",
        "        listmod.append(os.path.join(root, name))\n",
        "for root, directories, files in os.walk(non):\n",
        "    for name in files:\n",
        "        listnon.append(os.path.join(root, name))\n",
        "for root, directories, files in os.walk(vmild):\n",
        "    for name in files:\n",
        "        listvmild.append(os.path.join(root, name))\n",
        "for root, directories, files in os.walk(mild):\n",
        "    for name in files:\n",
        "        listmild.append(os.path.join(root, name))\n",
        "\n",
        "# Shuffle lists for random train / test\n",
        "seed_value = 0\n",
        "random.seed(seed_value)\n",
        "random.shuffle(listmod)\n",
        "random.shuffle(listnon)\n",
        "random.shuffle(listvmild)\n",
        "random.shuffle(listmild)\n",
        "\n",
        "!mkdir ./Newdata\n",
        "!mkdir ./Newdata/mildtrain\n",
        "!mkdir ./Newdata/nontrain\n",
        "!mkdir ./Newdata/vmildtrain\n",
        "!mkdir ./Newdata/modtrain\n",
        "!mkdir ./Newdata/mildtest\n",
        "!mkdir ./Newdata/nontest\n",
        "!mkdir ./Newdata/vmildtest\n",
        "!mkdir ./Newdata/modtest"
      ]
    },
    {
      "cell_type": "code",
      "execution_count": null,
      "metadata": {
        "id": "s0u68oHhTdC-"
      },
      "outputs": [],
      "source": [
        "pvmild = '/content/Newdata/vmildtrain'\n",
        "pnon = '/content/Newdata/nontrain'\n",
        "pmild = '/content/Newdata/mildtrain'\n",
        "pmod = '/content/Newdata/modtrain'\n",
        "tvmild = '/content/Newdata/vmildtest'\n",
        "tnon = '/content/Newdata/nontest'\n",
        "tmild = '/content/Newdata/mildtest'\n",
        "tmod = '/content/Newdata/modtest'\n",
        "n=488\n",
        "for i in range(n):  #to get a balanced class prior, since lowest class count is 488\n",
        "  if i<=(n*(2/3)):\n",
        "      copy_file(listvmild[i], pvmild)\n",
        "      copy_file(listmild[i], pmild)\n",
        "      copy_file(listnon[i], pnon)\n",
        "      copy_file(listmod[i], pmod)\n",
        "  else:\n",
        "    copy_file(listvmild[i], tvmild)\n",
        "    copy_file(listmild[i], tmild)\n",
        "    copy_file(listnon[i], tnon)\n",
        "    copy_file(listmod[i], tmod)"
      ]
    },
    {
      "cell_type": "markdown",
      "source": [
        "TEST DATA PROCESSING FOR LDA AND LOG REG"
      ],
      "metadata": {
        "id": "2Dr9mSazgoUY"
      }
    },
    {
      "cell_type": "code",
      "source": [
        "new_dir = [ tnon, tmild, tvmild, tmod ]\n",
        "\n",
        "test_main_image_list = []\n",
        "test_labels = []\n",
        "\n",
        "for i in range(4):\n",
        "    location = sorted( os.listdir( new_dir[i] ) )\n",
        "    image_list = []\n",
        "    label_list = []\n",
        "    for file_name in location:\n",
        "        file_path = os.path.join( new_dir[i] , file_name )\n",
        "        image = I.open(file_path)\n",
        "\n",
        "#########Blur\n",
        "        # image = image.filter(ImageFilter.GaussianBlur(radius=2))\n",
        "\n",
        "        new_image = image.convert('L').resize((64, 32)) #downsampling image for ease of computation\n",
        "        image2D = np.array(new_image) #reading 2D matrix\n",
        "\n",
        "#########Canny edge\n",
        "        # image2D = cv2.Canny(image2D, 50, 150)\n",
        "\n",
        "        image1D = image2D.flatten() #flattening to 1D matrix\n",
        "        image_list.append(image1D)\n",
        "        label_list.append(i)\n",
        "\n",
        "    concatenated_images = np.vstack(image_list) #concatinating list vertically get 162xfeatures shape\n",
        "    concatenated_labels = np.vstack(label_list)\n",
        "    print(concatenated_images.shape)\n",
        "    test_main_image_list.append(concatenated_images)\n",
        "    test_labels.append(concatenated_labels)\n",
        "\n",
        "\n",
        "\n",
        "test_main_image_list = np.vstack(test_main_image_list)\n",
        "test_labels = np.vstack(test_labels)\n",
        "\n",
        "tdata = np.concatenate((test_labels, test_main_image_list), axis=1)\n",
        "test_df = pd.DataFrame(tdata)\n",
        "\n",
        "test_df = test_df.sample(frac=1, random_state = 99)\n",
        "\n",
        "X_test = test_df.iloc[:,1:].values\n",
        "Y_test = test_df.iloc[:,:1].values\n",
        "\n",
        "Y_test = Y_test.flatten()"
      ],
      "metadata": {
        "colab": {
          "base_uri": "https://localhost:8080/"
        },
        "id": "k81c3UYo6jW_",
        "outputId": "59c64226-1e7f-4ab3-9af4-0fccafbc7611"
      },
      "execution_count": null,
      "outputs": [
        {
          "output_type": "stream",
          "name": "stdout",
          "text": [
            "(162, 2048)\n",
            "(162, 2048)\n",
            "(162, 2048)\n",
            "(162, 2048)\n"
          ]
        }
      ]
    },
    {
      "cell_type": "markdown",
      "source": [
        "LOADING LDA WEIGHTS"
      ],
      "metadata": {
        "id": "yDu0MRTk59wU"
      }
    },
    {
      "cell_type": "code",
      "source": [
        "means = np.load('/content/64_LDA_means.npy')\n",
        "one_means = np.load('/content/64_LDA_one_means.npy')\n",
        "zero_means = np.load('/content/64_LDA_zero_means.npy')\n",
        "pcas = np.load('/content/64_LDA_pcas.npy')\n",
        "weights = np.load('/content/64_LDA_weights.npy')\n",
        "\n",
        "# means = np.load('/content/128_LDA_means.npy')\n",
        "# one_means = np.load('/content/128_LDA_one_means.npy')\n",
        "# zero_means = np.load('/content/128_LDA_zero_means.npy')\n",
        "# pcas = np.load('/content/128_LDA_pcas.npy')\n",
        "# weights = np.load('/content/128_LDA_weights.npy')"
      ],
      "metadata": {
        "id": "iyPCTWEK5ToE"
      },
      "execution_count": null,
      "outputs": []
    },
    {
      "cell_type": "code",
      "source": [
        "list_num = [ [0,1], [0,2], [0,3], [1,2], [1,3], [2,3] ]\n",
        "LDA_final_pred = []\n",
        "\n",
        "for k in range ( np.shape(X_test)[0] ):\n",
        "  result = []\n",
        "  for l in range ( np.shape(weights)[0] ):\n",
        "\n",
        "    X_test_k = (X_test[k] - means[l]) #ZERO-MEAN\n",
        "    X_test_k = np.dot(X_test_k, pcas[l]) #PCA\n",
        "\n",
        "    y_pred_val = np.dot(X_test_k, weights[l])\n",
        "\n",
        "    a = abs(y_pred_val - zero_means[l])\n",
        "    b = abs(y_pred_val - one_means[l])\n",
        "\n",
        "    if a < b:\n",
        "      final = list_num[l][0]\n",
        "    else:\n",
        "      final = list_num[l][1]\n",
        "\n",
        "    result.append(final)\n",
        "\n",
        "  LDA_final_pred.append(mode(result))\n",
        "\n",
        "#accuracy\n",
        "np.mean(Y_test == LDA_final_pred)"
      ],
      "metadata": {
        "id": "UAeC9XJG7AmB",
        "colab": {
          "base_uri": "https://localhost:8080/"
        },
        "outputId": "e0fbfce7-df52-4c8f-cd98-2fc217693a4c"
      },
      "execution_count": null,
      "outputs": [
        {
          "output_type": "execute_result",
          "data": {
            "text/plain": [
              "0.7561728395061729"
            ]
          },
          "metadata": {},
          "execution_count": 26
        }
      ]
    },
    {
      "cell_type": "markdown",
      "source": [
        "LOADING LOG REG WEIGHTS"
      ],
      "metadata": {
        "id": "MfZMgvJWATcJ"
      }
    },
    {
      "cell_type": "code",
      "source": [
        "gmeans = np.load('/content/64_Log_means.npy')\n",
        "gstds = np.load('/content/64_Log_stds.npy')\n",
        "gweights = np.load('/content/64_Log_weights.npy')\n",
        "\n",
        "# gmeans = np.load('/content/128_Log_means.npy')\n",
        "# gstds = np.load('/content/128_Log_stds.npy')\n",
        "# gweights = np.load('/content/128_Log_weights.npy')"
      ],
      "metadata": {
        "id": "q-WAhzrWAVz_"
      },
      "execution_count": null,
      "outputs": []
    },
    {
      "cell_type": "code",
      "source": [
        "list_num = [ [0,1], [0,2], [0,3], [1,2], [1,3], [2,3] ]\n",
        "Log_final_pred = []\n",
        "\n",
        "for k in range ( np.shape(X_test)[0] ):\n",
        "  result = []\n",
        "  for l in range ( np.shape(gweights)[0] ):\n",
        "\n",
        "    X_test_k = (X_test[k] - gmeans[l]) / gstds[l] #ZSCORE\n",
        "\n",
        "    z_val = np.dot(X_test_k, gweights[l])\n",
        "    z_val = np.maximum(-1000, np.minimum(1000, z_val))\n",
        "    y_pred_val = 1 / (1 + np.exp(-(z_val)))\n",
        "\n",
        "    if y_pred_val > 0.5:\n",
        "      final = list_num[l][1]\n",
        "    else:\n",
        "      final = list_num[l][0]\n",
        "\n",
        "    result.append(final)\n",
        "\n",
        "  Log_final_pred.append(mode(result))\n",
        "\n",
        "#accuracy\n",
        "np.mean(Y_test == Log_final_pred)"
      ],
      "metadata": {
        "colab": {
          "base_uri": "https://localhost:8080/"
        },
        "id": "Apg9Epfv_8lP",
        "outputId": "1555d41f-28c9-4551-d934-d63e42a8be88"
      },
      "execution_count": null,
      "outputs": [
        {
          "output_type": "execute_result",
          "data": {
            "text/plain": [
              "0.8194444444444444"
            ]
          },
          "metadata": {},
          "execution_count": 27
        }
      ]
    },
    {
      "cell_type": "markdown",
      "source": [
        "PERFORMING KNN + CANNY"
      ],
      "metadata": {
        "id": "uIyhV-1zHSVQ"
      }
    },
    {
      "cell_type": "code",
      "source": [
        "new_dir = [ pnon, pmild, pvmild, pmod ]\n",
        "\n",
        "main_image_list = []\n",
        "labels = []\n",
        "\n",
        "for i in range(4):\n",
        "    location = sorted( os.listdir( new_dir[i] ) )\n",
        "    image_list = []\n",
        "    label_list = []\n",
        "    for file_name in location:\n",
        "        file_path = os.path.join( new_dir[i] , file_name )\n",
        "        image = I.open(file_path)\n",
        "\n",
        "#########Blur\n",
        "        # image = image.filter(ImageFilter.GaussianBlur(radius=2))\n",
        "\n",
        "        new_image = image.convert('L').resize((64, 32)) #downsampling image for ease of computation\n",
        "        image2D = np.array(new_image) #reading 2D matrix\n",
        "\n",
        "#########Canny edge\n",
        "        image2D = cv2.Canny(image2D, 50, 150)\n",
        "\n",
        "        image1D = image2D.flatten() #flattening to 1D matrix\n",
        "        image_list.append(image1D)\n",
        "        label_list.append(i)\n",
        "\n",
        "    concatenated_images = np.vstack(image_list) #concatinating list vertically get 162xfeatures shape\n",
        "    concatenated_labels = np.vstack(label_list)\n",
        "    print(concatenated_images.shape)\n",
        "    main_image_list.append(concatenated_images)\n",
        "    labels.append(concatenated_labels)\n",
        "\n",
        "\n",
        "\n",
        "main_image_list = np.vstack(main_image_list)\n",
        "labels = np.vstack(labels)\n",
        "\n",
        "data = np.concatenate((labels, main_image_list), axis=1)\n",
        "train_df = pd.DataFrame(data)\n",
        "\n",
        "train_df = train_df.sample(frac=1, random_state = 0)\n",
        "\n",
        "X_train = train_df.iloc[:,1:].values\n",
        "Y_train = train_df.iloc[:,:1].values\n",
        "\n",
        "Y_train = Y_train.flatten()"
      ],
      "metadata": {
        "colab": {
          "base_uri": "https://localhost:8080/"
        },
        "id": "dNVX9I_Lfzgt",
        "outputId": "52417f92-307b-4268-c8da-8c157176742f"
      },
      "execution_count": null,
      "outputs": [
        {
          "output_type": "stream",
          "name": "stdout",
          "text": [
            "(326, 2048)\n",
            "(326, 2048)\n",
            "(326, 2048)\n",
            "(326, 2048)\n"
          ]
        }
      ]
    },
    {
      "cell_type": "code",
      "source": [
        "new_dir = [ tnon, tmild, tvmild, tmod ]\n",
        "\n",
        "test_main_image_list = []\n",
        "test_labels = []\n",
        "\n",
        "for i in range(4):\n",
        "    location = sorted( os.listdir( new_dir[i] ) )\n",
        "    image_list = []\n",
        "    label_list = []\n",
        "    for file_name in location:\n",
        "        file_path = os.path.join( new_dir[i] , file_name )\n",
        "        image = I.open(file_path)\n",
        "\n",
        "#########Blur\n",
        "        # image = image.filter(ImageFilter.GaussianBlur(radius=2))\n",
        "\n",
        "        new_image = image.convert('L').resize((64, 32)) #downsampling image for ease of computation\n",
        "        image2D = np.array(new_image) #reading 2D matrix\n",
        "\n",
        "#########Canny edge\n",
        "        image2D = cv2.Canny(image2D, 50, 150)\n",
        "\n",
        "        image1D = image2D.flatten() #flattening to 1D matrix\n",
        "        image_list.append(image1D)\n",
        "        label_list.append(i)\n",
        "\n",
        "    concatenated_images = np.vstack(image_list) #concatinating list vertically get 162xfeatures shape\n",
        "    concatenated_labels = np.vstack(label_list)\n",
        "    print(concatenated_images.shape)\n",
        "    test_main_image_list.append(concatenated_images)\n",
        "    test_labels.append(concatenated_labels)\n",
        "\n",
        "\n",
        "\n",
        "test_main_image_list = np.vstack(test_main_image_list)\n",
        "test_labels = np.vstack(test_labels)\n",
        "\n",
        "tdata = np.concatenate((test_labels, test_main_image_list), axis=1)\n",
        "test_df = pd.DataFrame(tdata)\n",
        "\n",
        "test_df = test_df.sample(frac=1, random_state = 99)\n",
        "\n",
        "X_test = test_df.iloc[:,1:].values\n",
        "Y_test = test_df.iloc[:,:1].values\n",
        "\n",
        "Y_test = Y_test.flatten()"
      ],
      "metadata": {
        "colab": {
          "base_uri": "https://localhost:8080/"
        },
        "id": "0dev3j0Bihha",
        "outputId": "60f7999e-6070-4167-83c6-f0600962a16d"
      },
      "execution_count": null,
      "outputs": [
        {
          "output_type": "stream",
          "name": "stdout",
          "text": [
            "(162, 2048)\n",
            "(162, 2048)\n",
            "(162, 2048)\n",
            "(162, 2048)\n"
          ]
        }
      ]
    },
    {
      "cell_type": "code",
      "source": [
        "K = 5\n",
        "s = X_test.shape[0]\n",
        "t = X_train.shape[0]\n",
        "KNN_final_pred = np.zeros(s)\n",
        "for i in range(s):\n",
        "    similar = np.zeros(t)\n",
        "    for j in range(t):\n",
        "        t_min = np.minimum(X_test[i, :], X_train[j, :])\n",
        "        sim = np.sum(t_min)\n",
        "        similar[j] = sim\n",
        "    sorted_index = np.argsort(similar)[::-1]\n",
        "    knn_index = sorted_index[:K]\n",
        "    knn_label = Y_train[knn_index]\n",
        "    KNN_final_pred[i] = np.bincount(knn_label).argmax()\n",
        "\n",
        "#accuracy\n",
        "np.mean(Y_test == KNN_final_pred)"
      ],
      "metadata": {
        "colab": {
          "base_uri": "https://localhost:8080/"
        },
        "id": "YMt1taryit0W",
        "outputId": "32187f58-d0f0-4fab-fa57-9d52b74174e1"
      },
      "execution_count": null,
      "outputs": [
        {
          "output_type": "execute_result",
          "data": {
            "text/plain": [
              "0.7191358024691358"
            ]
          },
          "metadata": {},
          "execution_count": 29
        }
      ]
    },
    {
      "cell_type": "code",
      "source": [
        "KNN_final_pred = KNN_final_pred.astype(int).tolist()"
      ],
      "metadata": {
        "id": "9lmsE_zpjuMA"
      },
      "execution_count": null,
      "outputs": []
    },
    {
      "cell_type": "markdown",
      "source": [
        "**Ensemble by Voting**"
      ],
      "metadata": {
        "id": "6oWk9Y-hFYZd"
      }
    },
    {
      "cell_type": "code",
      "source": [
        "LDA_onehot = np.zeros((Y_test.size,4))\n",
        "for i in range( Y_test.size ):\n",
        "  LDA_onehot[i][ LDA_final_pred[i] ] = 1\n",
        "LDA_onehot"
      ],
      "metadata": {
        "id": "dKTtlQFEC6s2",
        "colab": {
          "base_uri": "https://localhost:8080/"
        },
        "outputId": "ec497749-057f-4f78-dd96-9a23d183edf2"
      },
      "execution_count": null,
      "outputs": [
        {
          "output_type": "execute_result",
          "data": {
            "text/plain": [
              "array([[0., 1., 0., 0.],\n",
              "       [0., 1., 0., 0.],\n",
              "       [0., 1., 0., 0.],\n",
              "       ...,\n",
              "       [0., 1., 0., 0.],\n",
              "       [1., 0., 0., 0.],\n",
              "       [0., 0., 0., 1.]])"
            ]
          },
          "metadata": {},
          "execution_count": 31
        }
      ]
    },
    {
      "cell_type": "code",
      "source": [
        "Log_onehot = np.zeros((Y_test.size,4))\n",
        "for i in range( Y_test.size ):\n",
        "  Log_onehot[i][ Log_final_pred[i] ] = 1\n",
        "Log_onehot"
      ],
      "metadata": {
        "id": "82i-vav9EJo2",
        "colab": {
          "base_uri": "https://localhost:8080/"
        },
        "outputId": "7aa63c46-ce39-4b5d-8504-ae7ec1e83494"
      },
      "execution_count": null,
      "outputs": [
        {
          "output_type": "execute_result",
          "data": {
            "text/plain": [
              "array([[0., 1., 0., 0.],\n",
              "       [0., 1., 0., 0.],\n",
              "       [0., 1., 0., 0.],\n",
              "       ...,\n",
              "       [1., 0., 0., 0.],\n",
              "       [1., 0., 0., 0.],\n",
              "       [0., 0., 0., 1.]])"
            ]
          },
          "metadata": {},
          "execution_count": 32
        }
      ]
    },
    {
      "cell_type": "code",
      "source": [
        "KNN_onehot = np.zeros((Y_test.size,4))\n",
        "for i in range( Y_test.size ):\n",
        "  KNN_onehot[i][ KNN_final_pred[i] ] = 1\n",
        "KNN_onehot"
      ],
      "metadata": {
        "colab": {
          "base_uri": "https://localhost:8080/"
        },
        "id": "Z1T2HXNHjaWL",
        "outputId": "50d49b0b-d89a-411f-be5a-b5d133e70597"
      },
      "execution_count": null,
      "outputs": [
        {
          "output_type": "execute_result",
          "data": {
            "text/plain": [
              "array([[0., 1., 0., 0.],\n",
              "       [0., 1., 0., 0.],\n",
              "       [0., 1., 0., 0.],\n",
              "       ...,\n",
              "       [0., 1., 0., 0.],\n",
              "       [0., 0., 0., 1.],\n",
              "       [0., 0., 0., 1.]])"
            ]
          },
          "metadata": {},
          "execution_count": 33
        }
      ]
    },
    {
      "cell_type": "code",
      "source": [
        "weighted_mean = ( LDA_onehot + Log_onehot + KNN_onehot )/ 3\n",
        "weighted_mean"
      ],
      "metadata": {
        "id": "gSFWYAg0BCHu",
        "colab": {
          "base_uri": "https://localhost:8080/"
        },
        "outputId": "2c7dff36-3e9f-4bab-a7f4-9d072233d56f"
      },
      "execution_count": null,
      "outputs": [
        {
          "output_type": "execute_result",
          "data": {
            "text/plain": [
              "array([[0.        , 1.        , 0.        , 0.        ],\n",
              "       [0.        , 1.        , 0.        , 0.        ],\n",
              "       [0.        , 1.        , 0.        , 0.        ],\n",
              "       ...,\n",
              "       [0.33333333, 0.66666667, 0.        , 0.        ],\n",
              "       [0.66666667, 0.        , 0.        , 0.33333333],\n",
              "       [0.        , 0.        , 0.        , 1.        ]])"
            ]
          },
          "metadata": {},
          "execution_count": 34
        }
      ]
    },
    {
      "cell_type": "code",
      "source": [
        "b = np.argmax(weighted_mean, axis = 1)\n",
        "a = np.mean(Y_test == b)"
      ],
      "metadata": {
        "id": "KJUsc4tnm5dG"
      },
      "execution_count": null,
      "outputs": []
    },
    {
      "cell_type": "code",
      "source": [
        "p = 0\n",
        "r = 0\n",
        "\n",
        "for i in range(4):\n",
        "    tp = np.sum((b == i) & (Y_test == i))\n",
        "    tn = np.sum((b != i) & (Y_test != i))\n",
        "    fp = np.sum((b == i) & (Y_test != i))\n",
        "    fn = np.sum((b != i) & (Y_test == i))\n",
        "\n",
        "    precision = tp / (tp + fp)\n",
        "    recall = tp / (tp + fn)\n",
        "\n",
        "    p = p + precision\n",
        "    r = r + recall\n",
        "\n",
        "p = p/4\n",
        "r = r/4\n",
        "f1 = (2*p*r) / (p+r)"
      ],
      "metadata": {
        "id": "MqzfDWDQwgcU"
      },
      "execution_count": null,
      "outputs": []
    },
    {
      "cell_type": "code",
      "source": [
        "print('Ensemble Accuracy  for 64x32:', a)\n",
        "print('Ensemble Precision for 64x32:', p)\n",
        "print('Ensemble Recall    for 64x32:', r)\n",
        "print('Ensemble F1-score  for 64x32:', f1)"
      ],
      "metadata": {
        "colab": {
          "base_uri": "https://localhost:8080/"
        },
        "id": "V24H06Wq0HJM",
        "outputId": "4d9ff9a9-1cc1-41ae-e00f-49b824fb82d2"
      },
      "execution_count": null,
      "outputs": [
        {
          "output_type": "stream",
          "name": "stdout",
          "text": [
            "Ensemble Accuracy  for 64x32: 0.8271604938271605\n",
            "Ensemble Precision for 64x32: 0.8357151653550845\n",
            "Ensemble Recall    for 64x32: 0.8271604938271605\n",
            "Ensemble F1-score  for 64x32: 0.8314158248174803\n"
          ]
        }
      ]
    },
    {
      "cell_type": "code",
      "source": [
        "import matplotlib.pyplot as plt\n",
        "import seaborn as sns\n",
        "cm1 = cm(Y_test, b)\n",
        "\n",
        "# Plot the confusion matrix with a heatmap\n",
        "plt.figure(figsize=(5, 4))\n",
        "sns.heatmap(cm1, annot=True, fmt=\"d\", cmap=\"Blues\", xticklabels=[0,1,2,3], yticklabels=[0,1,2,3])\n",
        "plt.title('Confusion Matrix')\n",
        "plt.xlabel('Predicted Label')\n",
        "plt.ylabel('True Label')\n",
        "plt.show()"
      ],
      "metadata": {
        "colab": {
          "base_uri": "https://localhost:8080/",
          "height": 410
        },
        "id": "5x1xGgRIoZLi",
        "outputId": "35412906-2718-4254-b027-134ff8e7c2d2"
      },
      "execution_count": null,
      "outputs": [
        {
          "output_type": "display_data",
          "data": {
            "text/plain": [
              "<Figure size 500x400 with 2 Axes>"
            ],
            "image/png": "[encoded data removed]"
          },
          "metadata": {}
        }
      ]
    }
  ]
}