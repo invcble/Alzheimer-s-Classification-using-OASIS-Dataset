{
  "nbformat": 4,
  "nbformat_minor": 0,
  "metadata": {
    "colab": {
      "provenance": []
    },
    "kernelspec": {
      "name": "python3",
      "display_name": "Python 3"
    },
    "language_info": {
      "name": "python"
    }
  },
  "cells": [
    {
      "cell_type": "code",
      "execution_count": null,
      "metadata": {
        "id": "rVCp1lv7i1EM",
        "colab": {
          "base_uri": "https://localhost:8080/"
        },
        "outputId": "4d279f3b-9a83-4e39-d440-3d6dac424c3f"
      },
      "outputs": [
        {
          "output_type": "stream",
          "name": "stdout",
          "text": [
            "Mounted at /content/drive\n"
          ]
        }
      ],
      "source": [
        "from google.colab import drive\n",
        "drive.mount('/content/drive', force_remount=True)"
      ]
    },
    {
      "cell_type": "code",
      "source": [
        "!unzip '/content/drive/MyDrive/CS613 Project/OASIS_alzheimer.zip' &> /dev/null"
      ],
      "metadata": {
        "id": "L1uyQi4WBuSq"
      },
      "execution_count": null,
      "outputs": []
    },
    {
      "cell_type": "code",
      "source": [
        "from PIL import Image as I\n",
        "from PIL import ImageFilter\n",
        "import pandas as pd\n",
        "import numpy as np\n",
        "import cv2\n",
        "import os\n",
        "import shutil\n",
        "import random\n",
        "from distutils.file_util import copy_file\n",
        "from statistics import mode\n",
        "from sklearn.model_selection import train_test_split as split\n",
        "from sklearn.metrics import confusion_matrix as cm\n",
        "np.set_printoptions(suppress=True)"
      ],
      "metadata": {
        "id": "-zjXS1IGjiwI"
      },
      "execution_count": null,
      "outputs": []
    },
    {
      "cell_type": "code",
      "source": [
        "non = '/content/Data/Non Demented'\n",
        "vmild = '/content/Data/Very mild Dementia'\n",
        "mild = '/content/Data/Mild Dementia'\n",
        "mod = '/content/Data/Moderate Dementia'"
      ],
      "metadata": {
        "id": "jnwpICKsTLOp"
      },
      "execution_count": null,
      "outputs": []
    },
    {
      "cell_type": "code",
      "source": [
        "listmod = []\n",
        "listnon = []\n",
        "listvmild = []\n",
        "listmild = []\n",
        "\n",
        "for root, directories, files in os.walk(mod):\n",
        "    for name in files:\n",
        "        listmod.append(os.path.join(root, name))\n",
        "for root, directories, files in os.walk(non):\n",
        "    for name in files:\n",
        "        listnon.append(os.path.join(root, name))\n",
        "for root, directories, files in os.walk(vmild):\n",
        "    for name in files:\n",
        "        listvmild.append(os.path.join(root, name))\n",
        "for root, directories, files in os.walk(mild):\n",
        "    for name in files:\n",
        "        listmild.append(os.path.join(root, name))\n",
        "\n",
        "# Shuffle lists for random train / test\n",
        "seed_value = 0\n",
        "random.seed(seed_value)\n",
        "random.shuffle(listmod)\n",
        "random.shuffle(listnon)\n",
        "random.shuffle(listvmild)\n",
        "random.shuffle(listmild)\n",
        "\n",
        "!mkdir ./Newdata\n",
        "!mkdir ./Newdata/mildtrain\n",
        "!mkdir ./Newdata/nontrain\n",
        "!mkdir ./Newdata/vmildtrain\n",
        "!mkdir ./Newdata/modtrain\n",
        "!mkdir ./Newdata/mildtest\n",
        "!mkdir ./Newdata/nontest\n",
        "!mkdir ./Newdata/vmildtest\n",
        "!mkdir ./Newdata/modtest"
      ],
      "metadata": {
        "id": "9FZfxtNZSczd"
      },
      "execution_count": null,
      "outputs": []
    },
    {
      "cell_type": "code",
      "source": [
        "pvmild = '/content/Newdata/vmildtrain'\n",
        "pnon = '/content/Newdata/nontrain'\n",
        "pmild = '/content/Newdata/mildtrain'\n",
        "pmod = '/content/Newdata/modtrain'\n",
        "tvmild = '/content/Newdata/vmildtest'\n",
        "tnon = '/content/Newdata/nontest'\n",
        "tmild = '/content/Newdata/mildtest'\n",
        "tmod = '/content/Newdata/modtest'\n",
        "n=488\n",
        "for i in range(n):  #to get a balanced class prior, since lowest class count is 488\n",
        "  if i<=(n*(2/3)):\n",
        "      copy_file(listvmild[i], pvmild)\n",
        "      copy_file(listmild[i], pmild)\n",
        "      copy_file(listnon[i], pnon)\n",
        "      copy_file(listmod[i], pmod)\n",
        "  else:\n",
        "    copy_file(listvmild[i], tvmild)\n",
        "    copy_file(listmild[i], tmild)\n",
        "    copy_file(listnon[i], tnon)\n",
        "    copy_file(listmod[i], tmod)"
      ],
      "metadata": {
        "id": "s0u68oHhTdC-"
      },
      "execution_count": null,
      "outputs": []
    },
    {
      "cell_type": "code",
      "source": [
        "dir =[ [pnon, pmild], [pnon, pvmild], [pnon, pmod], [pmild, pvmild], [pmild, pmod], [pvmild, pmod] ]\n",
        "\n",
        "weights = [] #to return weights for each system\n",
        "means = [] #to return training data mean to zero-mean for each weight\n",
        "stds = [] #to return training data std to zscore for each weight\n",
        "\n",
        "for k in range(6):\n",
        "  main_image_list = []\n",
        "  labels = []\n",
        "  for i in range(2):\n",
        "      location = sorted( os.listdir( dir[k][i] ) )\n",
        "      image_list = []\n",
        "      label_list = []\n",
        "      for file_name in location:\n",
        "          file_path = os.path.join( dir[k][i] , file_name )\n",
        "          image = I.open(file_path)\n",
        "\n",
        "###########Blur\n",
        "          # image = image.filter(ImageFilter.GaussianBlur(radius=2))\n",
        "\n",
        "          new_image = image.convert('L').resize((128,64)) #downsampling image for ease of computation\n",
        "          image2D = np.array(new_image) #reading 2D matrix\n",
        "\n",
        "###########Canny edge\n",
        "          # image2D = cv2.Canny(image2D, 50, 150)\n",
        "\n",
        "          image1D = image2D.flatten() #flattening to 1D matrix\n",
        "          image_list.append(image1D)\n",
        "          label_list.append(i)\n",
        "\n",
        "      concatenated_images = np.vstack(image_list) #concatinating list vertically to get 326xfeatures shape\n",
        "      concatenated_labels = np.vstack(label_list)\n",
        "      print(concatenated_images.shape)\n",
        "      main_image_list.append(concatenated_images)\n",
        "      labels.append(concatenated_labels)\n",
        "\n",
        "  main_image_list = np.vstack(main_image_list)\n",
        "  labels = np.vstack(labels)\n",
        "\n",
        "  data = np.concatenate((labels, main_image_list), axis=1)\n",
        "  df = pd.DataFrame(data)\n",
        "\n",
        "  random_seed = 0\n",
        "  train_df = df.sample(frac=1, random_state = random_seed)\n",
        "\n",
        "  X_train = train_df.iloc[:,1:].values\n",
        "#### ZSCORE\n",
        "  mean = X_train.mean()\n",
        "  std = X_train.std()\n",
        "  X_train = (X_train - mean) / std\n",
        "#### ZSCORE\n",
        "  Y_train = train_df.iloc[:,:1].values\n",
        "  Y_train = Y_train.flatten()\n",
        "\n",
        "  f = X_train.shape[1]\n",
        "  random.seed(0)\n",
        "  w = np.random.uniform(-1e-4, 1e-4, f)\n",
        "\n",
        "  for epoch in range(1000):\n",
        "    z_train = np.dot(X_train, w)\n",
        "    z_train = np.maximum(-1000, np.minimum(1000, z_train))\n",
        "    y_pred_train = 1 / (1 + np.exp(-(z_train)))\n",
        "\n",
        "    grad = np.dot(X_train.T, (y_pred_train - Y_train))/len(Y_train)\n",
        "    w = w - 0.01*grad\n",
        "\n",
        "  weights.append(w) # storing weights\n",
        "  means.append(mean) # storing mean to zero mean X_test\n",
        "  stds.append(std) # storing mean to zscore X_test"
      ],
      "metadata": {
        "colab": {
          "base_uri": "https://localhost:8080/"
        },
        "id": "Nbu3tkQHYVVu",
        "outputId": "84d3c144-e8c8-4d6e-92b2-09b61294a0d1"
      },
      "execution_count": null,
      "outputs": [
        {
          "output_type": "stream",
          "name": "stdout",
          "text": [
            "(326, 8192)\n",
            "(326, 8192)\n",
            "(326, 8192)\n",
            "(326, 8192)\n",
            "(326, 8192)\n",
            "(326, 8192)\n",
            "(326, 8192)\n",
            "(326, 8192)\n",
            "(326, 8192)\n",
            "(326, 8192)\n",
            "(326, 8192)\n",
            "(326, 8192)\n"
          ]
        }
      ]
    },
    {
      "cell_type": "code",
      "source": [
        "new_dir = [ tnon, tmild, tvmild, tmod ]\n",
        "\n",
        "test_main_image_list = []\n",
        "test_labels = []\n",
        "\n",
        "for i in range(4):\n",
        "    location = sorted( os.listdir( new_dir[i] ) )\n",
        "    image_list = []\n",
        "    label_list = []\n",
        "    for file_name in location:\n",
        "        file_path = os.path.join( new_dir[i] , file_name )\n",
        "        image = I.open(file_path)\n",
        "\n",
        "#########Blur\n",
        "        # image = image.filter(ImageFilter.GaussianBlur(radius=2))\n",
        "\n",
        "        new_image = image.convert('L').resize((128,64)) #downsampling image for ease of computation\n",
        "        image2D = np.array(new_image) #reading 2D matrix\n",
        "\n",
        "#########Canny edge\n",
        "        # image2D = cv2.Canny(image2D, 50, 150)\n",
        "\n",
        "        image1D = image2D.flatten() #flattening to 1D matrix\n",
        "        image_list.append(image1D)\n",
        "        label_list.append(i)\n",
        "\n",
        "    concatenated_images = np.vstack(image_list) #concatinating list vertically get 162xfeatures shape\n",
        "    concatenated_labels = np.vstack(label_list)\n",
        "    print(concatenated_images.shape)\n",
        "    test_main_image_list.append(concatenated_images)\n",
        "    test_labels.append(concatenated_labels)\n",
        "\n",
        "\n",
        "\n",
        "test_main_image_list = np.vstack(test_main_image_list)\n",
        "test_labels = np.vstack(test_labels)\n",
        "\n",
        "tdata = np.concatenate((test_labels, test_main_image_list), axis=1)\n",
        "test_df = pd.DataFrame(tdata)\n",
        "\n",
        "test_df = test_df.sample(frac=1, random_state = 3)\n",
        "\n",
        "X_test = test_df.iloc[:,1:].values\n",
        "Y_test = test_df.iloc[:,:1].values\n",
        "\n",
        "Y_test = Y_test.flatten()"
      ],
      "metadata": {
        "colab": {
          "base_uri": "https://localhost:8080/"
        },
        "id": "S17EKRaHYcR8",
        "outputId": "52878dd7-8f74-4de4-8514-5cf645e892e9"
      },
      "execution_count": null,
      "outputs": [
        {
          "output_type": "stream",
          "name": "stdout",
          "text": [
            "(162, 8192)\n",
            "(162, 8192)\n",
            "(162, 8192)\n",
            "(162, 8192)\n"
          ]
        }
      ]
    },
    {
      "cell_type": "code",
      "source": [
        "list_num = [ [0,1], [0,2], [0,3], [1,2], [1,3], [2,3] ]\n",
        "final_pred = []\n",
        "\n",
        "for k in range ( np.shape(X_test)[0] ):\n",
        "  result = []\n",
        "  for l in range ( np.shape(weights)[0] ):\n",
        "\n",
        "    X_test_k = (X_test[k] - means[l]) / stds[l] #ZSCORE\n",
        "\n",
        "    z_val = np.dot(X_test_k, weights[l])\n",
        "    z_val = np.maximum(-1000, np.minimum(1000, z_val))\n",
        "    y_pred_val = 1 / (1 + np.exp(-(z_val)))\n",
        "\n",
        "    if y_pred_val > 0.5:\n",
        "      final = list_num[l][1]\n",
        "    else:\n",
        "      final = list_num[l][0]\n",
        "\n",
        "    result.append(final)\n",
        "\n",
        "  final_pred.append(mode(result))\n",
        "\n",
        "#accuracy\n",
        "np.mean(Y_test == final_pred)"
      ],
      "metadata": {
        "colab": {
          "base_uri": "https://localhost:8080/"
        },
        "id": "9LLzZcG1YdLI",
        "outputId": "0f1a6edc-c725-4a41-9108-55b003791a7d"
      },
      "execution_count": null,
      "outputs": [
        {
          "output_type": "execute_result",
          "data": {
            "text/plain": [
              "0.8271604938271605"
            ]
          },
          "metadata": {},
          "execution_count": 9
        }
      ]
    },
    {
      "cell_type": "code",
      "source": [
        "import matplotlib.pyplot as plt\n",
        "import seaborn as sns\n",
        "cm1 = cm(Y_test, final_pred)\n",
        "\n",
        "# Plot the confusion matrix with a heatmap\n",
        "plt.figure(figsize=(5.4, 4))\n",
        "sns.heatmap(cm1, annot=True, fmt=\"d\", cmap=\"Blues\", xticklabels=[0,1,2,3], yticklabels=[0,1,2,3])\n",
        "plt.title('Confusion Matrix')\n",
        "plt.xlabel('Predicted Label')\n",
        "plt.ylabel('True Label')\n",
        "plt.show()"
      ],
      "metadata": {
        "colab": {
          "base_uri": "https://localhost:8080/",
          "height": 410
        },
        "id": "CcabrjroJZfY",
        "outputId": "ed9efc6a-73cf-4d6a-a40b-df8b27e25ca1"
      },
      "execution_count": null,
      "outputs": [
        {
          "output_type": "display_data",
          "data": {
            "text/plain": [
              "<Figure size 540x400 with 2 Axes>"
            ],
            "image/png": "[encoded data removed]"
          },
          "metadata": {}
        }
      ]
    },
    {
      "cell_type": "code",
      "source": [
        "####Exporting weights\n",
        "\n",
        "!mkdir ./128_Log\n",
        "np.save('/content/128_Log/128_Log_weights.npy', weights)\n",
        "np.save('/content/128_Log/128_Log_stds.npy', stds)\n",
        "np.save('/content/128_Log/128_Log_means.npy', means)\n",
        "\n",
        "New = '/content/128_Log'\n",
        "zip_filename = '/content/128_Log'\n",
        "shutil.make_archive(zip_filename, 'zip', New)\n",
        "\n",
        "\n",
        "\n",
        "# !mkdir ./64_Log\n",
        "# np.save('/content/64_Log/64_Log_weights.npy', weights)\n",
        "# np.save('/content/64_Log/64_Log_stds.npy', stds)\n",
        "# np.save('/content/64_Log/64_Log_means.npy', means)\n",
        "\n",
        "# New = '/content/64_Log'\n",
        "# zip_filename = '/content/64_Log'\n",
        "# shutil.make_archive(zip_filename, 'zip', New)"
      ],
      "metadata": {
        "colab": {
          "base_uri": "https://localhost:8080/",
          "height": 35
        },
        "id": "GtyllXrFSw9H",
        "outputId": "aa0cd449-d8a5-4a05-8c64-2ffb55be8505"
      },
      "execution_count": null,
      "outputs": [
        {
          "output_type": "execute_result",
          "data": {
            "text/plain": [
              "'/content/128_Log.zip'"
            ],
            "application/vnd.google.colaboratory.intrinsic+json": {
              "type": "string"
            }
          },
          "metadata": {},
          "execution_count": 11
        }
      ]
    },
    {
      "cell_type": "code",
      "source": [
        "# !cp 128_Log.zip '/content/drive/MyDrive/CS613 Project'\n",
        "# !cp 64_Log.zip '/content/drive/MyDrive/CS613 Project'"
      ],
      "metadata": {
        "id": "IIfe_VE_Vxv4"
      },
      "execution_count": null,
      "outputs": []
    }
  ]
}