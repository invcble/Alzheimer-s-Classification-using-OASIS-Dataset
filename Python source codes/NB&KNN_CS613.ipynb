{
  "nbformat": 4,
  "nbformat_minor": 0,
  "metadata": {
    "colab": {
      "provenance": []
    },
    "kernelspec": {
      "name": "python3",
      "display_name": "Python 3"
    },
    "language_info": {
      "name": "python"
    }
  },
  "cells": [
    {
      "cell_type": "code",
      "execution_count": null,
      "metadata": {
        "id": "rVCp1lv7i1EM",
        "colab": {
          "base_uri": "https://localhost:8080/"
        },
        "outputId": "5bfc9081-9dae-41fa-cfd0-e9258fe6916b"
      },
      "outputs": [
        {
          "output_type": "stream",
          "name": "stdout",
          "text": [
            "Mounted at /content/drive\n"
          ]
        }
      ],
      "source": [
        "from google.colab import drive\n",
        "drive.mount('/content/drive', force_remount=True)"
      ]
    },
    {
      "cell_type": "code",
      "source": [
        "!unzip '/content/drive/MyDrive/archive.zip' &> /dev/null"
      ],
      "metadata": {
        "id": "L1uyQi4WBuSq"
      },
      "execution_count": null,
      "outputs": []
    },
    {
      "cell_type": "code",
      "source": [
        "from PIL import Image as I\n",
        "from PIL import ImageFilter\n",
        "import pandas as pd\n",
        "import numpy as np\n",
        "import os\n",
        "from collections import Counter\n",
        "from sklearn.model_selection import train_test_split as split\n",
        "from scipy.stats import mode\n",
        "from sklearn.metrics import confusion_matrix as cm\n",
        "import cv2\n",
        "import random\n",
        "from distutils.file_util import copy_file\n",
        "np.set_printoptions(suppress=True)"
      ],
      "metadata": {
        "id": "-zjXS1IGjiwI"
      },
      "execution_count": null,
      "outputs": []
    },
    {
      "cell_type": "code",
      "source": [
        "non = '/content/Data/Non Demented'\n",
        "vmild = '/content/Data/Very mild Dementia'\n",
        "mild = '/content/Data/Mild Dementia'\n",
        "mod = '/content/Data/Moderate Dementia'"
      ],
      "metadata": {
        "id": "jnwpICKsTLOp"
      },
      "execution_count": null,
      "outputs": []
    },
    {
      "cell_type": "code",
      "source": [
        "listmod = []\n",
        "listnon = []\n",
        "listvmild = []\n",
        "listmild = []\n",
        "\n",
        "for root, directories, files in os.walk(mod):\n",
        "    for name in files:\n",
        "        listmod.append(os.path.join(root, name))\n",
        "for root, directories, files in os.walk(non):\n",
        "    for name in files:\n",
        "        listnon.append(os.path.join(root, name))\n",
        "for root, directories, files in os.walk(vmild):\n",
        "    for name in files:\n",
        "        listvmild.append(os.path.join(root, name))\n",
        "for root, directories, files in os.walk(mild):\n",
        "    for name in files:\n",
        "        listmild.append(os.path.join(root, name))\n",
        "\n",
        "\n",
        "\n",
        "seed_value = 0\n",
        "random.seed(seed_value)\n",
        "random.shuffle(listmod)\n",
        "random.shuffle(listnon)\n",
        "random.shuffle(listvmild)\n",
        "random.shuffle(listmild)\n",
        "\n",
        "!mkdir ./Newdata\n",
        "!mkdir ./Newdata/mild\n",
        "!mkdir ./Newdata/non\n",
        "!mkdir ./Newdata/vmild\n",
        "!mkdir ./Newdata/mod"
      ],
      "metadata": {
        "id": "9FZfxtNZSczd"
      },
      "execution_count": null,
      "outputs": []
    },
    {
      "cell_type": "code",
      "source": [
        "pvmild = '/content/Newdata/vmild'\n",
        "pnon = '/content/Newdata/non'\n",
        "pmild = '/content/Newdata/mild'\n",
        "pmod = '/content/Newdata/mod'\n",
        "\n",
        "for i in range(488):\n",
        "    copy_file(listvmild[i], pvmild)\n",
        "    copy_file(listmild[i], pmild)\n",
        "    copy_file(listnon[i], pnon)\n",
        "    copy_file(listmod[i], pmod)"
      ],
      "metadata": {
        "id": "s0u68oHhTdC-"
      },
      "execution_count": null,
      "outputs": []
    },
    {
      "cell_type": "code",
      "source": [
        "dir = [pnon, pvmild, pmild, pmod]\n",
        "main_image_list = []\n",
        "labels = []\n",
        "\n",
        "for i in range(4):\n",
        "    location = sorted( os.listdir( dir[i] ) )\n",
        "    image_list = []\n",
        "    label_list = []\n",
        "    for file_name in location:\n",
        "        file_path = os.path.join( dir[i] , file_name )\n",
        "        image = I.open(file_path)\n",
        "        #image = image.filter(ImageFilter.GaussianBlur(radius=2))\n",
        "        new_image = image.convert('L').resize(( 128,64)) #resizing image to 1/4 size\n",
        "        image2D = np.array(new_image) #reading 2D matrix\n",
        "        image2D = cv2.Canny(image2D, 50, 150)\n",
        "        image1D = image2D.flatten() #flattening to 1D matrix\n",
        "        image_list.append(image1D)\n",
        "        label_list.append(i)\n",
        "\n",
        "    concatenated_images = np.vstack(image_list) #concatinating list vertically to get 154x1600 shape\n",
        "    concatenated_labels = np.vstack(label_list)\n",
        "    print(concatenated_images.shape)\n",
        "    main_image_list.append(concatenated_images)\n",
        "    labels.append(concatenated_labels)"
      ],
      "metadata": {
        "id": "Nvzhm6LX-6VO",
        "colab": {
          "base_uri": "https://localhost:8080/"
        },
        "outputId": "3dc3876f-856d-42f8-df7e-a7096b8dda32"
      },
      "execution_count": null,
      "outputs": [
        {
          "output_type": "stream",
          "name": "stdout",
          "text": [
            "(488, 8192)\n",
            "(488, 8192)\n",
            "(488, 8192)\n",
            "(488, 8192)\n"
          ]
        }
      ]
    },
    {
      "cell_type": "code",
      "source": [
        "main_image_list = np.vstack(main_image_list)\n",
        "main_image_list.shape"
      ],
      "metadata": {
        "id": "v02Qqhq5K5-d",
        "colab": {
          "base_uri": "https://localhost:8080/"
        },
        "outputId": "4862c18a-17cf-4012-b389-ccd150d3b6cd"
      },
      "execution_count": null,
      "outputs": [
        {
          "output_type": "execute_result",
          "data": {
            "text/plain": [
              "(1952, 8192)"
            ]
          },
          "metadata": {},
          "execution_count": 126
        }
      ]
    },
    {
      "cell_type": "code",
      "source": [
        "labels = np.vstack(labels)\n",
        "labels.shape"
      ],
      "metadata": {
        "id": "Valb8HpYI8za",
        "colab": {
          "base_uri": "https://localhost:8080/"
        },
        "outputId": "ec0c53b7-5071-4532-d673-f43b7820b06e"
      },
      "execution_count": null,
      "outputs": [
        {
          "output_type": "execute_result",
          "data": {
            "text/plain": [
              "(1952, 1)"
            ]
          },
          "metadata": {},
          "execution_count": 127
        }
      ]
    },
    {
      "cell_type": "code",
      "source": [
        "data = np.concatenate((labels, main_image_list), axis=1)\n",
        "df = pd.DataFrame(data)\n"
      ],
      "metadata": {
        "id": "TD0BZryXOUh3"
      },
      "execution_count": null,
      "outputs": []
    },
    {
      "cell_type": "code",
      "source": [
        "random_seed = 0\n",
        "S_df = df.sample(frac=1, random_state = random_seed)"
      ],
      "metadata": {
        "id": "BE6xvUNTNy8z"
      },
      "execution_count": null,
      "outputs": []
    },
    {
      "cell_type": "code",
      "source": [
        "train_df, test_df = split(S_df, test_size= 1/3, random_state=0)"
      ],
      "metadata": {
        "id": "b6MmZtfG5KNt"
      },
      "execution_count": null,
      "outputs": []
    },
    {
      "cell_type": "code",
      "source": [
        "n_df = train_df.iloc[:,:1]"
      ],
      "metadata": {
        "id": "W4PQkZI1cSaP"
      },
      "execution_count": null,
      "outputs": []
    },
    {
      "cell_type": "code",
      "source": [
        "p_df = train_df.iloc[:,1:]"
      ],
      "metadata": {
        "id": "2dCNqeaVb_Nq"
      },
      "execution_count": null,
      "outputs": []
    },
    {
      "cell_type": "code",
      "source": [
        "n_df_t = test_df.iloc[:,:1]"
      ],
      "metadata": {
        "id": "GJxi3QnCrT3o"
      },
      "execution_count": null,
      "outputs": []
    },
    {
      "cell_type": "code",
      "source": [
        "p_df_t = test_df.iloc[:,1:]"
      ],
      "metadata": {
        "id": "o5213tdZrT3r"
      },
      "execution_count": null,
      "outputs": []
    },
    {
      "cell_type": "markdown",
      "source": [
        "### Training"
      ],
      "metadata": {
        "id": "6rh3RjsyzYAx"
      }
    },
    {
      "cell_type": "code",
      "source": [
        "X_train = p_df.values\n",
        "Y_train = n_df.values\n",
        "X_test = p_df_t.values\n",
        "Y_test = n_df_t.values"
      ],
      "metadata": {
        "id": "pnJC9DvbfIa2"
      },
      "execution_count": null,
      "outputs": []
    },
    {
      "cell_type": "code",
      "source": [
        "Y_train = Y_train.flatten()\n",
        "Y_test = Y_test.flatten()"
      ],
      "metadata": {
        "id": "YM8MBVDmb-Wj"
      },
      "execution_count": null,
      "outputs": []
    },
    {
      "cell_type": "code",
      "source": [
        "K = 5\n",
        "s = X_test.shape[0]\n",
        "t = X_train.shape[0]\n",
        "p = np.zeros(s)\n",
        "for i in range(s):\n",
        "    similar = np.zeros(t)\n",
        "    for j in range(t):\n",
        "        t_min = np.minimum(X_test[i, :], X_train[j, :])\n",
        "        sim = np.sum(t_min)\n",
        "        similar[j] = sim\n",
        "    sorted_index = np.argsort(similar)[::-1]\n",
        "    knn_index = sorted_index[:K]\n",
        "    knn_label = Y_train[knn_index]\n",
        "    p[i] = np.bincount(knn_label).argmax()"
      ],
      "metadata": {
        "id": "-VadvxgaWNSb"
      },
      "execution_count": null,
      "outputs": []
    },
    {
      "cell_type": "code",
      "source": [
        "np.mean(p==Y_test)"
      ],
      "metadata": {
        "id": "GWydFTWeYbfk",
        "colab": {
          "base_uri": "https://localhost:8080/"
        },
        "outputId": "9c068abd-d3d8-4529-f979-92ea477510ea"
      },
      "execution_count": null,
      "outputs": [
        {
          "output_type": "execute_result",
          "data": {
            "text/plain": [
              "0.7803379416282642"
            ]
          },
          "metadata": {},
          "execution_count": 138
        }
      ]
    },
    {
      "cell_type": "code",
      "source": [
        "import matplotlib.pyplot as plt\n",
        "import seaborn as sns\n",
        "cm1 = cm(Y_test, p)\n",
        "\n",
        "# Plot the confusion matrix with a heatmap\n",
        "plt.figure(figsize=(5, 4))\n",
        "sns.heatmap(cm1, annot=True, fmt=\"d\", cmap=\"Blues\", xticklabels=[0,1,2,3], yticklabels=[0,1,2,3])\n",
        "plt.title('Confusion Matrix')\n",
        "plt.xlabel('Predicted Label')\n",
        "plt.ylabel('True Label')\n",
        "plt.show()"
      ],
      "metadata": {
        "id": "nGRbzvUH6kEl",
        "colab": {
          "base_uri": "https://localhost:8080/",
          "height": 410
        },
        "outputId": "ff6f7f7d-a626-4149-a2d9-6b1d6dd5d587"
      },
      "execution_count": null,
      "outputs": [
        {
          "output_type": "display_data",
          "data": {
            "text/plain": [
              "<Figure size 500x400 with 2 Axes>"
            ],
            "image/png": "[encoded data removed]"
          },
          "metadata": {}
        }
      ]
    },
    {
      "cell_type": "code",
      "source": [
        "def fit(X, y):\n",
        "    n, m = X.shape\n",
        "    cls = np.unique(y)\n",
        "    tot_cls = len(cls)\n",
        "    pred = {}\n",
        "    feature = {}\n",
        "    for i in cls:\n",
        "        class_count = np.count_nonzero(y == i)\n",
        "        pred[i] = np.log(class_count / n)\n",
        "        j = (y == i)\n",
        "        t = X[j]\n",
        "        feature[i] = {}\n",
        "        for k in range(m):\n",
        "            feature[i][k] = X[j, k]\n",
        "    return pred, feature"
      ],
      "metadata": {
        "id": "D-K1yAM8bebS"
      },
      "execution_count": null,
      "outputs": []
    },
    {
      "cell_type": "code",
      "source": [
        "def predict(x, pred, feature):\n",
        "    n_val, m_val = x.shape\n",
        "    kys = list(pred.keys())\n",
        "    num = len(kys)\n",
        "    postr = np.zeros((n_val, num))\n",
        "    for i in range(num):\n",
        "        for j in range(n_val):\n",
        "            postr[j, i] = pred[kys[i]]\n",
        "            for k in range(m_val):\n",
        "                postr[j, i] += np.log(np.sum(feature[kys[i]][k] == x[j, k]) / (len(feature[kys[i]][k]))+1e-10)\n",
        "    cfs = np.argmax(postr, axis=1)\n",
        "    return cfs"
      ],
      "metadata": {
        "id": "6jrg4p4Ubfst"
      },
      "execution_count": null,
      "outputs": []
    },
    {
      "cell_type": "code",
      "source": [
        "pred, feature = fit(X_train, Y_train)\n",
        "preds = predict(X_test, pred, feature)\n",
        "np.mean(preds== Y_test)"
      ],
      "metadata": {
        "id": "a69wHPoAbieu",
        "colab": {
          "base_uri": "https://localhost:8080/"
        },
        "outputId": "9c0fc926-7e6b-461a-8a62-c35b1977b169"
      },
      "execution_count": null,
      "outputs": [
        {
          "output_type": "execute_result",
          "data": {
            "text/plain": [
              "0.5960061443932412"
            ]
          },
          "metadata": {},
          "execution_count": 142
        }
      ]
    },
    {
      "cell_type": "code",
      "source": [
        "# import shutil"
      ],
      "metadata": {
        "id": "esz7UEw-DU6s"
      },
      "execution_count": null,
      "outputs": []
    },
    {
      "cell_type": "code",
      "source": [
        "# !mkdir ./128_NB\n",
        "# np.save('/content/128_NB/128_NB_weights.npy', feature)\n",
        "# np.save('/content/128_NB/128_NB_prior.npy', pred)\n",
        "\n",
        "# New = '/content/128_NB'\n",
        "# zip_filename = '/content/128_NB'\n",
        "# shutil.make_archive(zip_filename, 'zip', New)\n",
        "# !cp 128_NB.zip '/content/drive/MyDrive'"
      ],
      "metadata": {
        "colab": {
          "base_uri": "https://localhost:8080/"
        },
        "id": "XMpgiNogCgR2",
        "outputId": "2db62e89-c9a0-4208-c49b-e9218a9f1ee6"
      },
      "execution_count": null,
      "outputs": [
        {
          "output_type": "stream",
          "name": "stdout",
          "text": [
            "mkdir: cannot create directory ‘./128_NB’: File exists\n"
          ]
        }
      ]
    },
    {
      "cell_type": "code",
      "source": [
        "import matplotlib.pyplot as plt\n",
        "import seaborn as sns\n",
        "cm1 = cm(Y_test, preds)\n",
        "\n",
        "# Plot the confusion matrix with a heatmap\n",
        "plt.figure(figsize=(5, 4))\n",
        "sns.heatmap(cm1, annot=True, fmt=\"d\", cmap=\"Blues\", xticklabels=[0,1,2,3], yticklabels=[0,1,2,3])\n",
        "plt.title('Confusion Matrix')\n",
        "plt.xlabel('Predicted Label')\n",
        "plt.ylabel('True Label')\n",
        "plt.show()"
      ],
      "metadata": {
        "id": "YbN38fTPtUR7",
        "colab": {
          "base_uri": "https://localhost:8080/",
          "height": 410
        },
        "outputId": "3344b511-b5d6-4e26-8914-58624768ea00"
      },
      "execution_count": null,
      "outputs": [
        {
          "output_type": "display_data",
          "data": {
            "text/plain": [
              "<Figure size 500x400 with 2 Axes>"
            ],
            "image/png": "[encoded data removed]"
          },
          "metadata": {}
        }
      ]
    },
    {
      "cell_type": "code",
      "source": [],
      "metadata": {
        "id": "drTM8_3ZBS7U"
      },
      "execution_count": null,
      "outputs": []
    }
  ]
}