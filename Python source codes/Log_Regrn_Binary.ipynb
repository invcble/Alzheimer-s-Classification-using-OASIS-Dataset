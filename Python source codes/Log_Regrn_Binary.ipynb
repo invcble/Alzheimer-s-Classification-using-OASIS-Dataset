{
  "nbformat": 4,
  "nbformat_minor": 0,
  "metadata": {
    "colab": {
      "provenance": []
    },
    "kernelspec": {
      "name": "python3",
      "display_name": "Python 3"
    },
    "language_info": {
      "name": "python"
    }
  },
  "cells": [
    {
      "cell_type": "code",
      "execution_count": null,
      "metadata": {
        "colab": {
          "base_uri": "https://localhost:8080/"
        },
        "id": "K7ZcyFGzc_bf",
        "outputId": "640b9b85-add1-4b4c-f918-697d15dce041"
      },
      "outputs": [
        {
          "output_type": "stream",
          "name": "stdout",
          "text": [
            "Mounted at /content/drive\n"
          ]
        }
      ],
      "source": [
        "from google.colab import drive\n",
        "drive.mount('/content/drive', force_remount=True)"
      ]
    },
    {
      "cell_type": "code",
      "source": [
        "!unzip '/content/drive/MyDrive/archive.zip' &> /dev/null"
      ],
      "metadata": {
        "id": "mHfChVXzdz1l"
      },
      "execution_count": null,
      "outputs": []
    },
    {
      "cell_type": "code",
      "source": [
        "from PIL import Image as I\n",
        "from PIL import ImageFilter\n",
        "import pandas as pd\n",
        "import numpy as np\n",
        "import os\n",
        "from collections import Counter\n",
        "from sklearn.model_selection import train_test_split as split\n",
        "from sklearn.metrics import confusion_matrix as cm\n",
        "from distutils.file_util import copy_file\n",
        "import random\n",
        "np.set_printoptions(suppress=True)"
      ],
      "metadata": {
        "id": "x8BCn8z2eAeZ"
      },
      "execution_count": null,
      "outputs": []
    },
    {
      "cell_type": "code",
      "source": [
        "non = '/content/Data/Non Demented'\n",
        "vmild = '/content/Data/Very mild Dementia'\n",
        "mild = '/content/Data/Mild Dementia'\n",
        "mod = '/content/Data/Moderate Dementia'"
      ],
      "metadata": {
        "id": "KOmttJe0eD9z"
      },
      "execution_count": null,
      "outputs": []
    },
    {
      "cell_type": "code",
      "source": [
        "listmod = []\n",
        "listnon = []\n",
        "listvmild = []\n",
        "listmild = []\n",
        "\n",
        "for root, directories, files in os.walk(mod):\n",
        "    for name in files:\n",
        "        listmod.append(os.path.join(root, name))\n",
        "for root, directories, files in os.walk(non):\n",
        "    for name in files:\n",
        "        listnon.append(os.path.join(root, name))\n",
        "for root, directories, files in os.walk(vmild):\n",
        "    for name in files:\n",
        "        listvmild.append(os.path.join(root, name))\n",
        "for root, directories, files in os.walk(mild):\n",
        "    for name in files:\n",
        "        listmild.append(os.path.join(root, name))\n",
        "\n",
        "seed_value = 0\n",
        "random.seed(seed_value)\n",
        "random.shuffle(listmod)\n",
        "random.shuffle(listnon)\n",
        "random.shuffle(listvmild)\n",
        "random.shuffle(listmild)\n",
        "\n",
        "!mkdir ./Newdata\n",
        "!mkdir ./Newdata/alz\n",
        "!mkdir ./Newdata/notalz"
      ],
      "metadata": {
        "id": "3cozmHRaeGk5"
      },
      "execution_count": null,
      "outputs": []
    },
    {
      "cell_type": "code",
      "source": [
        "alz = '/content/Newdata/alz'\n",
        "notalz = '/content/Newdata/notalz'\n",
        "n=488\n",
        "m=162\n",
        "for i in range(n):\n",
        "    copy_file(listnon[i], notalz)\n",
        "for i in range(m):\n",
        "    copy_file(listvmild[i], alz)\n",
        "    copy_file(listmild[i], alz)\n",
        "    copy_file(listmod[i], alz)"
      ],
      "metadata": {
        "id": "ofof_Ez5elct"
      },
      "execution_count": null,
      "outputs": []
    },
    {
      "cell_type": "code",
      "source": [
        "dir = [alz,notalz]\n",
        "main_image_list = []\n",
        "labels = []\n",
        "\n",
        "for i in range(2):\n",
        "    location = sorted( os.listdir( dir[i] ) )\n",
        "    image_list = []\n",
        "    label_list = []\n",
        "    for file_name in location:\n",
        "        file_path = os.path.join( dir[i] , file_name )\n",
        "        image = I.open(file_path)\n",
        "        new_image = image.convert('L').resize(( 128,64))\n",
        "        image2D = np.array(new_image)\n",
        "        image1D = image2D.flatten()\n",
        "        image_list.append(image1D)\n",
        "        label_list.append(i)\n",
        "\n",
        "    concatenated_images = np.vstack(image_list)\n",
        "    concatenated_labels = np.vstack(label_list)\n",
        "    print(concatenated_images.shape)\n",
        "    main_image_list.append(concatenated_images)\n",
        "    labels.append(concatenated_labels)"
      ],
      "metadata": {
        "colab": {
          "base_uri": "https://localhost:8080/"
        },
        "id": "lrOy8Ehhfd1U",
        "outputId": "26d4b59d-4975-4fe6-d951-09b02d64fdcb"
      },
      "execution_count": null,
      "outputs": [
        {
          "output_type": "stream",
          "name": "stdout",
          "text": [
            "(486, 8192)\n",
            "(488, 8192)\n"
          ]
        }
      ]
    },
    {
      "cell_type": "code",
      "source": [
        "main_image_list = np.vstack(main_image_list)"
      ],
      "metadata": {
        "id": "2CIsecN0f6yq"
      },
      "execution_count": null,
      "outputs": []
    },
    {
      "cell_type": "code",
      "source": [
        "labels = np.vstack(labels)"
      ],
      "metadata": {
        "id": "Qp1-yqNTf-fP"
      },
      "execution_count": null,
      "outputs": []
    },
    {
      "cell_type": "code",
      "source": [
        "data = np.concatenate((labels, main_image_list), axis=1)\n",
        "df = pd.DataFrame(data)"
      ],
      "metadata": {
        "id": "mqLwlaxRgCp8"
      },
      "execution_count": null,
      "outputs": []
    },
    {
      "cell_type": "code",
      "source": [
        "random_seed = 0\n",
        "S_df = df.sample(frac=1, random_state = random_seed)"
      ],
      "metadata": {
        "id": "4V0TSI9T385i"
      },
      "execution_count": null,
      "outputs": []
    },
    {
      "cell_type": "code",
      "source": [
        "train_df, test_df = split(S_df, test_size= 1/3, random_state=0)"
      ],
      "metadata": {
        "id": "-rIS9d25rLol"
      },
      "execution_count": null,
      "outputs": []
    },
    {
      "cell_type": "code",
      "source": [
        "n_df = train_df.iloc[:,:1].values"
      ],
      "metadata": {
        "id": "W4PQkZI1cSaP"
      },
      "execution_count": null,
      "outputs": []
    },
    {
      "cell_type": "code",
      "source": [
        "p_df = train_df.iloc[:,1:].values"
      ],
      "metadata": {
        "id": "2dCNqeaVb_Nq"
      },
      "execution_count": null,
      "outputs": []
    },
    {
      "cell_type": "code",
      "source": [
        "n_df_t = test_df.iloc[:,:1].values"
      ],
      "metadata": {
        "id": "GJxi3QnCrT3o"
      },
      "execution_count": null,
      "outputs": []
    },
    {
      "cell_type": "code",
      "source": [
        "p_df_t = test_df.iloc[:,1:].values"
      ],
      "metadata": {
        "id": "o5213tdZrT3r"
      },
      "execution_count": null,
      "outputs": []
    },
    {
      "cell_type": "code",
      "source": [
        "X_train = p_df\n",
        "Y_train = n_df\n",
        "X_test = p_df_t\n",
        "Y_test = n_df_t"
      ],
      "metadata": {
        "id": "pnJC9DvbfIa2"
      },
      "execution_count": null,
      "outputs": []
    },
    {
      "cell_type": "code",
      "source": [
        "Y_train = Y_train.flatten()\n",
        "Y_test = Y_test.flatten()"
      ],
      "metadata": {
        "id": "U-6btWjmgTiR"
      },
      "execution_count": null,
      "outputs": []
    },
    {
      "cell_type": "code",
      "source": [
        "f = X_train.shape[1]\n",
        "w = np.random.uniform(-1e-4, 1e-4, f)"
      ],
      "metadata": {
        "id": "RFm5qQ13glpg"
      },
      "execution_count": null,
      "outputs": []
    },
    {
      "cell_type": "code",
      "source": [
        "for epoch in range(1000):\n",
        "  z_train = X_train@ w\n",
        "  y_pred_train = 1 / (1 + np.exp(-(z_train)))\n",
        "\n",
        "  grad = X_train.T @ (y_pred_train - Y_train)/len(Y_train)\n",
        "  w = w - 0.01*grad\n",
        "\n",
        "  z_test = X_test@w\n",
        "  y_pred_test = 1 / (1 + np.exp(-(z_test)))"
      ],
      "metadata": {
        "id": "JmqVOmyDgqe2"
      },
      "execution_count": null,
      "outputs": []
    },
    {
      "cell_type": "code",
      "source": [
        "threshold = 0.5\n",
        "pred = (y_pred_test >= threshold).astype(int)"
      ],
      "metadata": {
        "id": "NOc8FLeEgrW7"
      },
      "execution_count": null,
      "outputs": []
    },
    {
      "cell_type": "code",
      "source": [
        "np.mean(Y_test == pred)"
      ],
      "metadata": {
        "colab": {
          "base_uri": "https://localhost:8080/"
        },
        "id": "4G1Lg41CgvN0",
        "outputId": "7dee6dbb-d557-4178-bac3-91d74f167243"
      },
      "execution_count": null,
      "outputs": [
        {
          "output_type": "execute_result",
          "data": {
            "text/plain": [
              "0.7507692307692307"
            ]
          },
          "metadata": {},
          "execution_count": 39
        }
      ]
    },
    {
      "cell_type": "code",
      "source": [
        "import matplotlib.pyplot as plt\n",
        "import seaborn as sns\n",
        "cm1 = cm(Y_test, pred)\n",
        "\n",
        "# Plot the confusion matrix with a heatmap\n",
        "plt.figure(figsize=(5, 4))\n",
        "sns.heatmap(cm1, annot=True, fmt=\"d\", cmap=\"Blues\", xticklabels=[0,1], yticklabels=[0,1])\n",
        "plt.title('Confusion Matrix')\n",
        "plt.xlabel('Predicted Label')\n",
        "plt.ylabel('True Label')\n",
        "plt.show()"
      ],
      "metadata": {
        "colab": {
          "base_uri": "https://localhost:8080/",
          "height": 410
        },
        "id": "YVeDzdVTj12j",
        "outputId": "e392cd65-17fd-4ec7-8f40-cc62af9897e4"
      },
      "execution_count": null,
      "outputs": [
        {
          "output_type": "display_data",
          "data": {
            "text/plain": [
              "<Figure size 500x400 with 2 Axes>"
            ],
            "image/png": "[encoded data removed]"
          },
          "metadata": {}
        }
      ]
    }
  ]
}