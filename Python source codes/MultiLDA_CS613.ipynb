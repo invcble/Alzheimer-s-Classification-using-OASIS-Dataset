{
  "nbformat": 4,
  "nbformat_minor": 0,
  "metadata": {
    "colab": {
      "provenance": []
    },
    "kernelspec": {
      "name": "python3",
      "display_name": "Python 3"
    },
    "language_info": {
      "name": "python"
    }
  },
  "cells": [
    {
      "cell_type": "code",
      "execution_count": null,
      "metadata": {
        "id": "rVCp1lv7i1EM",
        "colab": {
          "base_uri": "https://localhost:8080/"
        },
        "outputId": "5c9dce6f-be8e-4ca5-8dd4-1f8111d5ad79"
      },
      "outputs": [
        {
          "output_type": "stream",
          "name": "stdout",
          "text": [
            "Mounted at /content/drive\n"
          ]
        }
      ],
      "source": [
        "from google.colab import drive\n",
        "drive.mount('/content/drive', force_remount=True)"
      ]
    },
    {
      "cell_type": "code",
      "source": [
        "!unzip '/content/drive/MyDrive/archive.zip' &> /dev/null"
      ],
      "metadata": {
        "id": "L1uyQi4WBuSq"
      },
      "execution_count": null,
      "outputs": []
    },
    {
      "cell_type": "code",
      "source": [
        "from PIL import Image as I\n",
        "from PIL import ImageFilter\n",
        "import pandas as pd\n",
        "import numpy as np\n",
        "import os\n",
        "from collections import Counter\n",
        "from sklearn.model_selection import train_test_split as split\n",
        "from scipy.stats import mode\n",
        "from sklearn.metrics import confusion_matrix as cm\n",
        "import random\n",
        "from distutils.file_util import copy_file\n",
        "np.set_printoptions(suppress=True)"
      ],
      "metadata": {
        "id": "-zjXS1IGjiwI"
      },
      "execution_count": null,
      "outputs": []
    },
    {
      "cell_type": "code",
      "source": [
        "non = '/content/Data/Non Demented'\n",
        "vmild = '/content/Data/Very mild Dementia'\n",
        "mild = '/content/Data/Mild Dementia'\n",
        "mod = '/content/Data/Moderate Dementia'"
      ],
      "metadata": {
        "id": "jnwpICKsTLOp"
      },
      "execution_count": null,
      "outputs": []
    },
    {
      "cell_type": "code",
      "source": [
        "listmod = []\n",
        "listnon = []\n",
        "listvmild = []\n",
        "listmild = []\n",
        "\n",
        "for root, directories, files in os.walk(mod):\n",
        "    for name in files:\n",
        "        listmod.append(os.path.join(root, name))\n",
        "for root, directories, files in os.walk(non):\n",
        "    for name in files:\n",
        "        listnon.append(os.path.join(root, name))\n",
        "for root, directories, files in os.walk(vmild):\n",
        "    for name in files:\n",
        "        listvmild.append(os.path.join(root, name))\n",
        "for root, directories, files in os.walk(mild):\n",
        "    for name in files:\n",
        "        listmild.append(os.path.join(root, name))\n",
        "\n",
        "\n",
        "# # Shuffle lists for random train / test\n",
        "seed_value = 0\n",
        "random.seed(seed_value)\n",
        "random.shuffle(listmod)\n",
        "random.shuffle(listnon)\n",
        "random.shuffle(listvmild)\n",
        "random.shuffle(listmild)\n",
        "\n",
        "!mkdir ./Newdata\n",
        "!mkdir ./Newdata/mild\n",
        "!mkdir ./Newdata/non\n",
        "!mkdir ./Newdata/vmild\n",
        "!mkdir ./Newdata/mod"
      ],
      "metadata": {
        "id": "9FZfxtNZSczd"
      },
      "execution_count": null,
      "outputs": []
    },
    {
      "cell_type": "code",
      "source": [
        "pvmild = '/content/Newdata/vmild'\n",
        "pnon = '/content/Newdata/non'\n",
        "pmild = '/content/Newdata/mild'\n",
        "pmod = '/content/Newdata/mod'\n",
        "\n",
        "for i in range(488):\n",
        "    copy_file(listvmild[i], pvmild)\n",
        "    copy_file(listmild[i], pmild)\n",
        "    copy_file(listnon[i], pnon)\n",
        "    copy_file(listmod[i], pmod)"
      ],
      "metadata": {
        "id": "s0u68oHhTdC-"
      },
      "execution_count": null,
      "outputs": []
    },
    {
      "cell_type": "code",
      "source": [
        "import cv2"
      ],
      "metadata": {
        "id": "HAOHlWpo9ePK"
      },
      "execution_count": null,
      "outputs": []
    },
    {
      "cell_type": "code",
      "source": [
        "dir = [pnon, pvmild, pmild, pmod]\n",
        "main_image_list = []\n",
        "labels = []\n",
        "\n",
        "for i in range(4):\n",
        "    location = sorted( os.listdir( dir[i] ) )\n",
        "    image_list = []\n",
        "    label_list = []\n",
        "    for file_name in location:\n",
        "        file_path = os.path.join( dir[i] , file_name )\n",
        "        image = I.open(file_path)\n",
        "        image = image.filter(ImageFilter.GaussianBlur(radius=2))\n",
        "        new_image = image.convert('L').resize((128,64)) #resizing image to 1/4 size\n",
        "        image2D = np.array(new_image) #reading 2D matrix\n",
        "        #image2D = cv2.Canny(image2D, 50, 150)\n",
        "        image1D = image2D.flatten() #flattening to 1D matrix\n",
        "        image_list.append(image1D)\n",
        "        label_list.append(i)\n",
        "\n",
        "    concatenated_images = np.vstack(image_list) #concatinating list vertically to get 154x1600 shape\n",
        "    concatenated_labels = np.vstack(label_list)\n",
        "    print(concatenated_images.shape)\n",
        "    main_image_list.append(concatenated_images)\n",
        "    labels.append(concatenated_labels)"
      ],
      "metadata": {
        "id": "7lxnrMqAjjQJ",
        "colab": {
          "base_uri": "https://localhost:8080/"
        },
        "outputId": "a254b170-d770-426d-ffee-25a661201157"
      },
      "execution_count": null,
      "outputs": [
        {
          "output_type": "stream",
          "name": "stdout",
          "text": [
            "(488, 8192)\n",
            "(488, 8192)\n",
            "(488, 8192)\n",
            "(488, 8192)\n"
          ]
        }
      ]
    },
    {
      "cell_type": "code",
      "source": [
        "main_image_list = np.vstack(main_image_list)\n",
        "main_image_list.shape"
      ],
      "metadata": {
        "colab": {
          "base_uri": "https://localhost:8080/"
        },
        "id": "v02Qqhq5K5-d",
        "outputId": "6eded527-a3d7-4437-821f-27b56b95d6d8"
      },
      "execution_count": null,
      "outputs": [
        {
          "output_type": "execute_result",
          "data": {
            "text/plain": [
              "(1952, 8192)"
            ]
          },
          "metadata": {},
          "execution_count": 205
        }
      ]
    },
    {
      "cell_type": "code",
      "source": [
        "labels = np.vstack(labels)\n",
        "labels.shape"
      ],
      "metadata": {
        "colab": {
          "base_uri": "https://localhost:8080/"
        },
        "id": "Valb8HpYI8za",
        "outputId": "0c323169-b6f7-40ab-c6b5-9affd63f6a6b"
      },
      "execution_count": null,
      "outputs": [
        {
          "output_type": "execute_result",
          "data": {
            "text/plain": [
              "(1952, 1)"
            ]
          },
          "metadata": {},
          "execution_count": 206
        }
      ]
    },
    {
      "cell_type": "code",
      "source": [
        "data = np.concatenate((labels, main_image_list), axis=1)\n",
        "df = pd.DataFrame(data)\n"
      ],
      "metadata": {
        "id": "TD0BZryXOUh3"
      },
      "execution_count": null,
      "outputs": []
    },
    {
      "cell_type": "code",
      "source": [
        "random_seed = 0\n",
        "S_df = df.sample(frac=1, random_state = random_seed)"
      ],
      "metadata": {
        "id": "BE6xvUNTNy8z"
      },
      "execution_count": null,
      "outputs": []
    },
    {
      "cell_type": "code",
      "source": [
        "train_df, test_df = split(S_df, test_size= 1/3, random_state=0)"
      ],
      "metadata": {
        "id": "-rIS9d25rLol"
      },
      "execution_count": null,
      "outputs": []
    },
    {
      "cell_type": "code",
      "source": [
        "n_df = train_df.iloc[:,:1]"
      ],
      "metadata": {
        "id": "JLx6PvxsU_9p"
      },
      "execution_count": null,
      "outputs": []
    },
    {
      "cell_type": "code",
      "source": [
        "p_df = train_df.iloc[:,1:]"
      ],
      "metadata": {
        "id": "PANE6p2uU_9p"
      },
      "execution_count": null,
      "outputs": []
    },
    {
      "cell_type": "code",
      "source": [
        "n_df_t = test_df.iloc[:,:1]"
      ],
      "metadata": {
        "id": "GJxi3QnCrT3o"
      },
      "execution_count": null,
      "outputs": []
    },
    {
      "cell_type": "code",
      "source": [
        "p_df_t = test_df.iloc[:,1:]"
      ],
      "metadata": {
        "id": "o5213tdZrT3r"
      },
      "execution_count": null,
      "outputs": []
    },
    {
      "cell_type": "code",
      "source": [
        "mean = np.mean(p_df, axis=0)\n",
        "p_df = p_df- mean\n",
        "p_df_t = p_df_t -mean\n",
        "covar = np.cov(p_df,rowvar=False)"
      ],
      "metadata": {
        "id": "3Z49BH2tU_9p"
      },
      "execution_count": null,
      "outputs": []
    },
    {
      "cell_type": "code",
      "source": [
        "e1,e2 = np.linalg.eigh(covar)"
      ],
      "metadata": {
        "id": "9emvCNqxU_9p"
      },
      "execution_count": null,
      "outputs": []
    },
    {
      "cell_type": "code",
      "source": [
        "e2= e2[:,np.argsort(e1)[::-1]]\n",
        "e_proj = e2[:,:1500]"
      ],
      "metadata": {
        "id": "bIzlWC_tU_9p"
      },
      "execution_count": null,
      "outputs": []
    },
    {
      "cell_type": "code",
      "source": [
        "p_df = np.dot(p_df,e_proj)"
      ],
      "metadata": {
        "id": "XrKbPwPVU_9q"
      },
      "execution_count": null,
      "outputs": []
    },
    {
      "cell_type": "code",
      "source": [
        "p_df_t = np.dot(p_df_t,e_proj)"
      ],
      "metadata": {
        "id": "SFup5W7lrfc-"
      },
      "execution_count": null,
      "outputs": []
    },
    {
      "cell_type": "code",
      "source": [
        "X_train = p_df\n",
        "Y_train = n_df\n",
        "X_test = p_df_t\n",
        "Y_test = n_df_t"
      ],
      "metadata": {
        "id": "kIcZ-C4UU_9q"
      },
      "execution_count": null,
      "outputs": []
    },
    {
      "cell_type": "code",
      "source": [
        "y_train = Y_train.values.flatten()\n",
        "y_val = Y_test.values.flatten()"
      ],
      "metadata": {
        "id": "YM8MBVDmb-Wj"
      },
      "execution_count": null,
      "outputs": []
    },
    {
      "cell_type": "markdown",
      "source": [
        "### Data Preprocessing"
      ],
      "metadata": {
        "id": "UScTFc7wcA-8"
      }
    },
    {
      "cell_type": "code",
      "source": [
        "X_train_0 = X_train[y_train == 0]\n",
        "X_train_1 = X_train[y_train == 1]\n",
        "X_train_2 = X_train[y_train == 2]\n",
        "X_train_3 = X_train[y_train == 3]"
      ],
      "metadata": {
        "id": "nGtDpfmz7Xie"
      },
      "execution_count": null,
      "outputs": []
    },
    {
      "cell_type": "markdown",
      "source": [
        "### Mean and Covariance"
      ],
      "metadata": {
        "id": "5JYVrczkcFC6"
      }
    },
    {
      "cell_type": "code",
      "source": [
        "mean = np.mean(X_train)\n",
        "mean_0 = np.mean(X_train_0,axis=0)\n",
        "mean_1 = np.mean(X_train_1,axis=0)\n",
        "mean_2 = np.mean(X_train_2,axis=0)\n",
        "mean_3 = np.mean(X_train_3,axis=0)\n",
        "cov_0 = np.cov(X_train_0,rowvar=False, ddof = 1)\n",
        "cov_1 = np.cov(X_train_1,rowvar=False, ddof = 1)\n",
        "cov_2 = np.cov(X_train_2,rowvar=False, ddof = 1)\n",
        "cov_3 = np.cov(X_train_3,rowvar=False, ddof = 1)"
      ],
      "metadata": {
        "id": "a3TlHwhv8aRD"
      },
      "execution_count": null,
      "outputs": []
    },
    {
      "cell_type": "code",
      "source": [
        "count_0 = X_train_0.shape[0]\n",
        "count_1 = X_train_1.shape[0]\n",
        "count_2 = X_train_2.shape[0]\n",
        "count_3 = X_train_3.shape[0]"
      ],
      "metadata": {
        "id": "574X0CRk9n8r"
      },
      "execution_count": null,
      "outputs": []
    },
    {
      "cell_type": "code",
      "source": [
        "Sw = cov_0 + cov_1 + cov_2 + cov_3\n",
        "Sb = count_0*np.outer((mean_0 - mean).T, (mean_0 - mean)) + count_1*np.outer((mean_1 - mean).T, (mean_1 - mean)) + count_2*np.outer((mean_2 - mean).T, (mean_2 - mean)) + count_3*np.outer((mean_3 - mean).T, (mean_3 - mean))"
      ],
      "metadata": {
        "id": "ih97Mqc58NHq"
      },
      "execution_count": null,
      "outputs": []
    },
    {
      "cell_type": "code",
      "source": [
        "eigenvalues, eigenvectors = np.linalg.eigh(np.dot(np.linalg.pinv(Sw) , Sb))\n",
        "nz_eig = np.argmax(eigenvalues)\n",
        "proj = eigenvectors[:, nz_eig]"
      ],
      "metadata": {
        "id": "yB8n3Nv6_HII"
      },
      "execution_count": null,
      "outputs": []
    },
    {
      "cell_type": "code",
      "source": [
        "Pred_t = np.dot(X_train,proj)\n",
        "Pred = np.dot(X_test,proj)"
      ],
      "metadata": {
        "id": "xzqK06keSp5n"
      },
      "execution_count": null,
      "outputs": []
    },
    {
      "cell_type": "markdown",
      "source": [
        "### Calculation for Validation"
      ],
      "metadata": {
        "id": "7TfjicaxcR8l"
      }
    },
    {
      "cell_type": "code",
      "source": [
        "y_pred = Pred\n",
        "y_pred_t = Pred_t"
      ],
      "metadata": {
        "id": "p-joGLh0dhGC"
      },
      "execution_count": null,
      "outputs": []
    },
    {
      "cell_type": "code",
      "source": [
        "t1 = np.mean(Pred_t[y_train == 0])\n",
        "t2 = np.mean(Pred_t[y_train == 1])\n",
        "t3 = np.mean(Pred_t[y_train == 2])\n",
        "t4 = np.mean(Pred_t[y_train == 3])"
      ],
      "metadata": {
        "id": "8CwB7DBdcqFp"
      },
      "execution_count": null,
      "outputs": []
    },
    {
      "cell_type": "code",
      "source": [
        "for i in range(len(Pred)):\n",
        "    differences = [abs(Pred[i] - t) for t in [t1, t2, t3, t4]]\n",
        "    min_index = differences.index(min(differences))\n",
        "    y_pred[i] = min_index"
      ],
      "metadata": {
        "id": "kMMtN974USsr"
      },
      "execution_count": null,
      "outputs": []
    },
    {
      "cell_type": "code",
      "source": [
        "np.mean(y_pred == y_val)"
      ],
      "metadata": {
        "id": "0LuWZ3vRQw5u",
        "colab": {
          "base_uri": "https://localhost:8080/"
        },
        "outputId": "aeb559b0-7e7e-4c93-b77c-bb1ae79510c1"
      },
      "execution_count": null,
      "outputs": [
        {
          "output_type": "execute_result",
          "data": {
            "text/plain": [
              "0.4792626728110599"
            ]
          },
          "metadata": {},
          "execution_count": 230
        }
      ]
    },
    {
      "cell_type": "code",
      "source": [
        "import matplotlib.pyplot as plt\n",
        "import seaborn as sns\n",
        "cm1 = cm(y_val, y_pred)\n",
        "\n",
        "# Plot the confusion matrix with a heatmap\n",
        "plt.figure(figsize=(5, 4))\n",
        "sns.heatmap(cm1, annot=True, fmt=\"d\", cmap=\"Blues\", xticklabels=[0,1,2,3], yticklabels=[0,1,2,3])\n",
        "plt.title('Confusion Matrix')\n",
        "plt.xlabel('Predicted Label')\n",
        "plt.ylabel('True Label')\n",
        "plt.show()"
      ],
      "metadata": {
        "colab": {
          "base_uri": "https://localhost:8080/",
          "height": 410
        },
        "id": "uTcuzuLIXvJy",
        "outputId": "9c342de6-f1b2-4a4a-9ad9-634e4ac69d57"
      },
      "execution_count": null,
      "outputs": [
        {
          "output_type": "display_data",
          "data": {
            "text/plain": [
              "<Figure size 500x400 with 2 Axes>"
            ],
            "image/png": "[encoded data removed]"
          },
          "metadata": {}
        }
      ]
    }
  ]
}