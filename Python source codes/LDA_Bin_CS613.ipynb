{
  "nbformat": 4,
  "nbformat_minor": 0,
  "metadata": {
    "colab": {
      "provenance": []
    },
    "kernelspec": {
      "name": "python3",
      "display_name": "Python 3"
    },
    "language_info": {
      "name": "python"
    }
  },
  "cells": [
    {
      "cell_type": "code",
      "execution_count": null,
      "metadata": {
        "colab": {
          "base_uri": "https://localhost:8080/"
        },
        "id": "K7ZcyFGzc_bf",
        "outputId": "e5a1819c-b764-4941-e5fa-4fc1c094823b"
      },
      "outputs": [
        {
          "output_type": "stream",
          "name": "stdout",
          "text": [
            "Mounted at /content/drive\n"
          ]
        }
      ],
      "source": [
        "from google.colab import drive\n",
        "drive.mount('/content/drive', force_remount=True)"
      ]
    },
    {
      "cell_type": "code",
      "source": [
        "!unzip '/content/drive/MyDrive/archive.zip' &> /dev/null"
      ],
      "metadata": {
        "id": "mHfChVXzdz1l"
      },
      "execution_count": null,
      "outputs": []
    },
    {
      "cell_type": "code",
      "source": [
        "from PIL import Image as I\n",
        "from PIL import ImageFilter\n",
        "import pandas as pd\n",
        "import numpy as np\n",
        "import os\n",
        "from collections import Counter\n",
        "from sklearn.model_selection import train_test_split as split\n",
        "from sklearn.metrics import confusion_matrix as cm\n",
        "from distutils.file_util import copy_file\n",
        "import random\n",
        "np.set_printoptions(suppress=True)"
      ],
      "metadata": {
        "id": "x8BCn8z2eAeZ"
      },
      "execution_count": null,
      "outputs": []
    },
    {
      "cell_type": "code",
      "source": [
        "non = '/content/Data/Non Demented'\n",
        "vmild = '/content/Data/Very mild Dementia'\n",
        "mild = '/content/Data/Mild Dementia'\n",
        "mod = '/content/Data/Moderate Dementia'"
      ],
      "metadata": {
        "id": "KOmttJe0eD9z"
      },
      "execution_count": null,
      "outputs": []
    },
    {
      "cell_type": "code",
      "source": [
        "listmod = []\n",
        "listnon = []\n",
        "listvmild = []\n",
        "listmild = []\n",
        "\n",
        "for root, directories, files in os.walk(mod):\n",
        "    for name in files:\n",
        "        listmod.append(os.path.join(root, name))\n",
        "for root, directories, files in os.walk(non):\n",
        "    for name in files:\n",
        "        listnon.append(os.path.join(root, name))\n",
        "for root, directories, files in os.walk(vmild):\n",
        "    for name in files:\n",
        "        listvmild.append(os.path.join(root, name))\n",
        "for root, directories, files in os.walk(mild):\n",
        "    for name in files:\n",
        "        listmild.append(os.path.join(root, name))\n",
        "\n",
        "seed_value = 0\n",
        "random.seed(seed_value)\n",
        "random.shuffle(listmod)\n",
        "random.shuffle(listnon)\n",
        "random.shuffle(listvmild)\n",
        "random.shuffle(listmild)\n",
        "\n",
        "!mkdir ./Newdata\n",
        "!mkdir ./Newdata/alz\n",
        "!mkdir ./Newdata/notalz"
      ],
      "metadata": {
        "id": "3cozmHRaeGk5"
      },
      "execution_count": null,
      "outputs": []
    },
    {
      "cell_type": "code",
      "source": [
        "alz = '/content/Newdata/alz'\n",
        "notalz = '/content/Newdata/notalz'\n",
        "n=488\n",
        "m=162\n",
        "for i in range(n):\n",
        "    copy_file(listnon[i], notalz)\n",
        "for i in range(m):\n",
        "    copy_file(listvmild[i], alz)\n",
        "    copy_file(listmild[i], alz)\n",
        "    copy_file(listmod[i], alz)"
      ],
      "metadata": {
        "id": "ofof_Ez5elct"
      },
      "execution_count": null,
      "outputs": []
    },
    {
      "cell_type": "code",
      "source": [
        "# alz = '/content/Newdata/alz'\n",
        "# notalz = '/content/Newdata/notalz'\n",
        "# n=488\n",
        "# for i in range(n):\n",
        "#     copy_file(listmod[i], notalz)\n",
        "# for i in range(n):\n",
        "#     copy_file(listvmild[i], alz)"
      ],
      "metadata": {
        "id": "71MY3t9BfrtO"
      },
      "execution_count": null,
      "outputs": []
    },
    {
      "cell_type": "code",
      "source": [
        "dir = [alz,notalz]\n",
        "main_image_list = []\n",
        "labels = []\n",
        "\n",
        "for i in range(2):\n",
        "    location = sorted( os.listdir( dir[i] ) )\n",
        "    image_list = []\n",
        "    label_list = []\n",
        "    for file_name in location:\n",
        "        file_path = os.path.join( dir[i] , file_name )\n",
        "        image = I.open(file_path)\n",
        "        new_image = image.convert('L').resize((128,64))\n",
        "        image2D = np.array(new_image)\n",
        "        image1D = image2D.flatten()\n",
        "        image_list.append(image1D)\n",
        "        label_list.append(i)\n",
        "\n",
        "    concatenated_images = np.vstack(image_list)\n",
        "    concatenated_labels = np.vstack(label_list)\n",
        "    print(concatenated_images.shape)\n",
        "    main_image_list.append(concatenated_images)\n",
        "    labels.append(concatenated_labels)"
      ],
      "metadata": {
        "id": "lrOy8Ehhfd1U",
        "colab": {
          "base_uri": "https://localhost:8080/"
        },
        "outputId": "1276fc34-21fb-4383-cff5-9b14df447c30"
      },
      "execution_count": null,
      "outputs": [
        {
          "output_type": "stream",
          "name": "stdout",
          "text": [
            "(486, 8192)\n",
            "(488, 8192)\n"
          ]
        }
      ]
    },
    {
      "cell_type": "code",
      "source": [
        "main_image_list = np.vstack(main_image_list)"
      ],
      "metadata": {
        "id": "2CIsecN0f6yq"
      },
      "execution_count": null,
      "outputs": []
    },
    {
      "cell_type": "code",
      "source": [
        "labels = np.vstack(labels)"
      ],
      "metadata": {
        "id": "Qp1-yqNTf-fP"
      },
      "execution_count": null,
      "outputs": []
    },
    {
      "cell_type": "code",
      "source": [
        "data = np.concatenate((labels, main_image_list), axis=1)\n",
        "df = pd.DataFrame(data)"
      ],
      "metadata": {
        "id": "mqLwlaxRgCp8"
      },
      "execution_count": null,
      "outputs": []
    },
    {
      "cell_type": "code",
      "source": [
        "random_seed = 0\n",
        "S_df = df.sample(frac=1, random_state = random_seed)"
      ],
      "metadata": {
        "id": "ztxhohRKgJV7"
      },
      "execution_count": null,
      "outputs": []
    },
    {
      "cell_type": "code",
      "source": [
        "train_df, test_df = split(S_df, test_size= 1/3, random_state=0)"
      ],
      "metadata": {
        "id": "-rIS9d25rLol"
      },
      "execution_count": null,
      "outputs": []
    },
    {
      "cell_type": "code",
      "source": [
        "n_df = train_df.iloc[:,:1]"
      ],
      "metadata": {
        "id": "W4PQkZI1cSaP"
      },
      "execution_count": null,
      "outputs": []
    },
    {
      "cell_type": "code",
      "source": [
        "p_df = train_df.iloc[:,1:]"
      ],
      "metadata": {
        "id": "2dCNqeaVb_Nq"
      },
      "execution_count": null,
      "outputs": []
    },
    {
      "cell_type": "code",
      "source": [
        "n_df_t = test_df.iloc[:,:1]"
      ],
      "metadata": {
        "id": "GJxi3QnCrT3o"
      },
      "execution_count": null,
      "outputs": []
    },
    {
      "cell_type": "code",
      "source": [
        "p_df_t = test_df.iloc[:,1:]"
      ],
      "metadata": {
        "id": "o5213tdZrT3r"
      },
      "execution_count": null,
      "outputs": []
    },
    {
      "cell_type": "markdown",
      "source": [
        "### PCA"
      ],
      "metadata": {
        "id": "Ckyy88i7zTex"
      }
    },
    {
      "cell_type": "code",
      "source": [
        "mean = np.mean(p_df, axis=0)\n",
        "p_df = p_df- mean\n",
        "p_df_t = p_df_t -mean\n",
        "covar = np.cov(p_df,rowvar=False)"
      ],
      "metadata": {
        "id": "VCC86sDLZ8Xe"
      },
      "execution_count": null,
      "outputs": []
    },
    {
      "cell_type": "code",
      "source": [
        "e1,e2 = np.linalg.eig(covar)"
      ],
      "metadata": {
        "id": "ASQVa8bnagTS"
      },
      "execution_count": null,
      "outputs": []
    },
    {
      "cell_type": "code",
      "source": [
        "e2= e2[:,np.argsort(e1)[::-1]]\n",
        "e_proj = e2[:,:1500]"
      ],
      "metadata": {
        "id": "ZxTXd44canuO"
      },
      "execution_count": null,
      "outputs": []
    },
    {
      "cell_type": "code",
      "source": [
        "p_df = np.dot(p_df,e_proj)"
      ],
      "metadata": {
        "id": "DcWinwZlbHBH"
      },
      "execution_count": null,
      "outputs": []
    },
    {
      "cell_type": "code",
      "source": [
        "p_df_t = np.dot(p_df_t,e_proj)"
      ],
      "metadata": {
        "id": "SFup5W7lrfc-"
      },
      "execution_count": null,
      "outputs": []
    },
    {
      "cell_type": "markdown",
      "source": [
        "### Training"
      ],
      "metadata": {
        "id": "6rh3RjsyzYAx"
      }
    },
    {
      "cell_type": "code",
      "source": [
        "X_train = p_df\n",
        "Y_train = n_df\n",
        "X_test = p_df_t\n",
        "Y_test = n_df_t"
      ],
      "metadata": {
        "id": "pnJC9DvbfIa2"
      },
      "execution_count": null,
      "outputs": []
    },
    {
      "cell_type": "code",
      "source": [
        "Y_train = Y_train.values.flatten()\n",
        "Y_test = Y_test.values.flatten()"
      ],
      "metadata": {
        "id": "U-6btWjmgTiR"
      },
      "execution_count": null,
      "outputs": []
    },
    {
      "cell_type": "code",
      "source": [
        "X_train_0 = X_train[Y_train == 0]\n",
        "X_train_1 = X_train[Y_train == 1]"
      ],
      "metadata": {
        "id": "nGtDpfmz7Xie"
      },
      "execution_count": null,
      "outputs": []
    },
    {
      "cell_type": "markdown",
      "source": [
        "### Mean and Covariance"
      ],
      "metadata": {
        "id": "5JYVrczkcFC6"
      }
    },
    {
      "cell_type": "code",
      "source": [
        "mean_0 = np.mean(X_train_0,axis=0)\n",
        "mean_1 = np.mean(X_train_1,axis=0)\n",
        "cov_0 = np.cov(X_train_0,rowvar=False)\n",
        "cov_1 = np.cov(X_train_1,rowvar=False)"
      ],
      "metadata": {
        "id": "a3TlHwhv8aRD"
      },
      "execution_count": null,
      "outputs": []
    },
    {
      "cell_type": "markdown",
      "source": [
        "### Sw & Sb"
      ],
      "metadata": {
        "id": "YvhYhBZhcJ_W"
      }
    },
    {
      "cell_type": "code",
      "source": [
        "Sw = cov_0 + cov_1\n",
        "Sb = np.outer((mean_0 - mean_1).T, (mean_0 - mean_1))"
      ],
      "metadata": {
        "id": "ih97Mqc58NHq"
      },
      "execution_count": null,
      "outputs": []
    },
    {
      "cell_type": "markdown",
      "source": [
        "### Projections"
      ],
      "metadata": {
        "id": "ZrC6qRH4cOkH"
      }
    },
    {
      "cell_type": "code",
      "source": [
        "eigenvalues, eigenvectors = np.linalg.eig(np.dot(np.linalg.pinv(Sw) , Sb))\n",
        "nz_eig = np.argmax(eigenvalues)\n",
        "proj = eigenvectors[:, nz_eig]"
      ],
      "metadata": {
        "id": "yB8n3Nv6_HII"
      },
      "execution_count": null,
      "outputs": []
    },
    {
      "cell_type": "code",
      "source": [
        "Pred_t = np.dot(X_train,proj)\n",
        "Pred = np.dot(X_test,proj)"
      ],
      "metadata": {
        "id": "xzqK06keSp5n"
      },
      "execution_count": null,
      "outputs": []
    },
    {
      "cell_type": "markdown",
      "source": [
        "### Calculation for Validation"
      ],
      "metadata": {
        "id": "7TfjicaxcR8l"
      }
    },
    {
      "cell_type": "code",
      "source": [
        "y_pred = Pred\n",
        "y_pred_train = Pred_t"
      ],
      "metadata": {
        "id": "p-joGLh0dhGC"
      },
      "execution_count": null,
      "outputs": []
    },
    {
      "cell_type": "code",
      "source": [
        "t1 = np.mean(Pred_t[Y_train == 0])\n",
        "t2 = np.mean(Pred_t[Y_train == 1])\n",
        "\n",
        "for i in range(len(Pred)):\n",
        "    d1 = abs(Pred[i] - t1)\n",
        "    d2 = abs(Pred[i] - t2)\n",
        "    if d1 < d2:\n",
        "        y_pred[i] = 0\n",
        "    else:\n",
        "        y_pred[i] = 1"
      ],
      "metadata": {
        "id": "8CwB7DBdcqFp"
      },
      "execution_count": null,
      "outputs": []
    },
    {
      "cell_type": "code",
      "source": [
        "np.mean(y_pred == Y_test)"
      ],
      "metadata": {
        "id": "0LuWZ3vRQw5u",
        "colab": {
          "base_uri": "https://localhost:8080/"
        },
        "outputId": "62132a98-de18-4f73-ffd2-d8dbcb1f8bc9"
      },
      "execution_count": null,
      "outputs": [
        {
          "output_type": "execute_result",
          "data": {
            "text/plain": [
              "0.7784615384615384"
            ]
          },
          "metadata": {},
          "execution_count": 58
        }
      ]
    },
    {
      "cell_type": "code",
      "source": [
        "import matplotlib.pyplot as plt\n",
        "import seaborn as sns\n",
        "cm1 = cm(Y_test, np.real(y_pred))\n",
        "\n",
        "# Plot the confusion matrix with a heatmap\n",
        "plt.figure(figsize=(5, 4))\n",
        "sns.heatmap(cm1, annot=True, fmt=\"d\", cmap=\"Blues\", xticklabels=[0,1], yticklabels=[0,1])\n",
        "plt.title('Confusion Matrix')\n",
        "plt.xlabel('Predicted Label')\n",
        "plt.ylabel('True Label')\n",
        "plt.show()"
      ],
      "metadata": {
        "id": "mrAAqyrHNeZ8",
        "colab": {
          "base_uri": "https://localhost:8080/",
          "height": 410
        },
        "outputId": "3376e946-c4b1-46bd-e147-14537ecca0e1"
      },
      "execution_count": null,
      "outputs": [
        {
          "output_type": "display_data",
          "data": {
            "text/plain": [
              "<Figure size 500x400 with 2 Axes>"
            ],
            "image/png": "[encoded data removed]"
          },
          "metadata": {}
        }
      ]
    }
  ]
}